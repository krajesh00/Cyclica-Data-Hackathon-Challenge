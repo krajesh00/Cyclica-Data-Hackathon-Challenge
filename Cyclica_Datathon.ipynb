{
  "cells": [
    {
      "cell_type": "markdown",
      "metadata": {
        "id": "view-in-github",
        "colab_type": "text"
      },
      "source": [
        "<a href=\"https://colab.research.google.com/github/krajesh00/Cyclica-Data-Hackathon-Challenge/blob/master/Cyclica_Datathon.ipynb\" target=\"_parent\"><img src=\"https://colab.research.google.com/assets/colab-badge.svg\" alt=\"Open In Colab\"/></a>"
      ]
    },
    {
      "cell_type": "markdown",
      "metadata": {
        "id": "6t6746uE9hvo"
      },
      "source": [
        "# Cyclica Datathon Classification Challenge\n",
        "\n",
        "**Table of Contents**\n",
        "1. Data Ingestion and Cleaning\n",
        "2. Exploratory Analysis\n",
        "    - Outliers\n",
        "    - Univariate\n",
        "    - Multivariate\n",
        "    - Correlations\n",
        "3. Feature Engineering\n",
        "    - Feature Selection\n",
        "    - Feature Importance\n",
        "4. Model Selection, Training, Evaluation\n",
        "5. Deep Learning Approach\n",
        "6. Submission"
      ]
    },
    {
      "cell_type": "code",
      "execution_count": null,
      "metadata": {
        "id": "h7-upWiJDD7W"
      },
      "outputs": [],
      "source": [
        "'''\n",
        "To-do List:\n",
        "- Check if dataset is balanced or not (apply balancing [i.e. undersampling/oversampling] if needed)\n",
        "- Verify One-hot encoding for data cleaning\n",
        "- Get number of appearences of each amino acid (One-hot encoded columns)\n",
        "- Normalize/MinMax scale appropriate columns\n",
        "- Find anomalies/outliers using inter-quartile ranges\n",
        "- Find Correlations\n",
        "- Feature Engineering (possibly categorical encoding) for Entry and Entry ID columns\n",
        "\n",
        "- Use GridSearchCV or alternatives for hyperparameter tuning\n",
        "- Implement HuggingFace Gradio interface\n",
        "\n",
        "Learning Outcomes:\n",
        "- Use L-BFGS when dataset is small (ideally <100000 rows)\n",
        "- Use Ray for distributed tuning and KerasTuner for tuning keras models\n",
        "'''"
      ]
    },
    {
      "cell_type": "markdown",
      "metadata": {
        "id": "x5nFKuEeZOou"
      },
      "source": [
        "## 1. Data Ingestion and Cleaning"
      ]
    },
    {
      "cell_type": "code",
      "execution_count": null,
      "metadata": {
        "id": "lHTOjNvtL5hB"
      },
      "outputs": [],
      "source": [
        "import os as os\n",
        "import pandas as pd\n",
        "import numpy as np\n",
        "import matplotlib.pyplot as plt\n",
        "import seaborn as sns\n",
        "\n",
        "sns.set_theme()\n",
        "pd.set_option('display.max_columns', None)"
      ]
    },
    {
      "cell_type": "code",
      "execution_count": null,
      "metadata": {
        "colab": {
          "base_uri": "https://localhost:8080/"
        },
        "id": "OjgdbW0hJAyI",
        "outputId": "0ee12b38-fc61-42f6-b1f2-dfe259fa2aaa"
      },
      "outputs": [
        {
          "output_type": "stream",
          "name": "stdout",
          "text": [
            "Mounted at /content/drive\n"
          ]
        }
      ],
      "source": [
        "# Importing Data from Google Drive Mount\n",
        "from google.colab import drive\n",
        "drive.mount('/content/drive')\n",
        "os.chdir(\"drive/MyDrive/Cyclica_Datathon\")"
      ]
    },
    {
      "cell_type": "code",
      "execution_count": null,
      "metadata": {
        "id": "GREucvsALAIu"
      },
      "outputs": [],
      "source": [
        "test = pd.read_csv(\"af2_dataset_testset_unlabeled.csv\")\n",
        "train = pd.read_csv(\"af2_dataset_training_labeled.csv\")"
      ]
    },
    {
      "cell_type": "code",
      "execution_count": null,
      "metadata": {
        "colab": {
          "base_uri": "https://localhost:8080/"
        },
        "id": "d4D6vwaeNuPG",
        "outputId": "11c9c2a2-dfc9-49b7-fbaf-7a1fc15dca8f"
      },
      "outputs": [
        {
          "output_type": "execute_result",
          "data": {
            "text/plain": [
              "(107624, 50)"
            ]
          },
          "metadata": {},
          "execution_count": 5
        }
      ],
      "source": [
        "test.shape"
      ]
    },
    {
      "cell_type": "markdown",
      "metadata": {
        "id": "_HSHgFbDw9We"
      },
      "source": [
        "**Reference of Dataframe names throughout the project**\n",
        "\n",
        "<table>\n",
        "    <tr>\n",
        "        <th>DataFrame</th>\n",
        "        <th>Description</th>\n",
        "    </tr>\n",
        "    <tr>\n",
        "        <td><i>train</i></td>\n",
        "        <td>Initial training df based on dataset csv</td>\n",
        "    </tr>\n",
        "    <tr>\n",
        "        <td><i>train_cleaned</i></td>\n",
        "        <td>Training df after data cleaning and EDA</td>\n",
        "    </tr>\n",
        "    <tr>\n",
        "        <td><i>train_scaled1</i></td>\n",
        "        <td>Data scaled for classical ml experiments</td>\n",
        "    </tr>\n",
        "    <tr>\n",
        "        <td><i>train_scaled2</i></td>\n",
        "        <td>Data scaled for deep learning experiments</td>\n",
        "    </tr>\n",
        "</table>\n",
        "\n"
      ]
    },
    {
      "cell_type": "code",
      "execution_count": null,
      "metadata": {
        "colab": {
          "base_uri": "https://localhost:8080/",
          "height": 288
        },
        "id": "b_QRBldFL3YU",
        "outputId": "4c7dfbca-67a3-4330-b6b6-100c0513a9ee"
      },
      "outputs": [
        {
          "output_type": "execute_result",
          "data": {
            "text/plain": [
              "   Unnamed: 0 annotation_sequence  feat_A  feat_C  feat_D  feat_E  feat_F  \\\n",
              "0           0                   M   False   False   False   False   False   \n",
              "1           1                   G   False   False   False   False   False   \n",
              "2           2                   Q   False   False   False   False   False   \n",
              "3           3                   E   False   False   False    True   False   \n",
              "4           4                   P   False   False   False   False   False   \n",
              "\n",
              "   feat_G  feat_H  feat_I  feat_K  feat_L  feat_M  feat_N  feat_P  feat_Q  \\\n",
              "0   False   False   False   False   False    True   False   False   False   \n",
              "1    True   False   False   False   False   False   False   False   False   \n",
              "2   False   False   False   False   False   False   False   False    True   \n",
              "3   False   False   False   False   False   False   False   False   False   \n",
              "4   False   False   False   False   False   False   False    True   False   \n",
              "\n",
              "   feat_R  feat_S  feat_T  feat_V  feat_W  feat_Y annotation_atomrec  \\\n",
              "0   False   False   False   False   False   False                  M   \n",
              "1   False   False   False   False   False   False                  G   \n",
              "2   False   False   False   False   False   False                  Q   \n",
              "3   False   False   False   False   False   False                  E   \n",
              "4   False   False   False   False   False   False                  P   \n",
              "\n",
              "   feat_PHI  feat_PSI  feat_TAU  feat_THETA  feat_BBSASA  feat_SCSASA  \\\n",
              "0  0.000000  2.257610 -2.375020    1.956201    80.020602   137.023818   \n",
              "1 -1.100680  2.224168 -2.654037    1.900792    69.542382     0.000000   \n",
              "2 -1.295398  2.676551 -1.696727    2.458310    23.387401    88.587659   \n",
              "3 -2.352796  2.665542 -2.810012    2.054226     4.908812    44.521273   \n",
              "4 -1.134474  2.612150 -2.754863    2.272191     9.742674    52.613700   \n",
              "\n",
              "   feat_pLDDT  feat_DSSP_H  feat_DSSP_B  feat_DSSP_E  feat_DSSP_G  \\\n",
              "0       38.49        False        False        False        False   \n",
              "1       46.08        False        False        False        False   \n",
              "2       65.42        False        False        False        False   \n",
              "3       85.17        False        False        False        False   \n",
              "4       93.24        False        False        False        False   \n",
              "\n",
              "   feat_DSSP_I  feat_DSSP_T  feat_DSSP_S  feat_DSSP_6  feat_DSSP_7  \\\n",
              "0        False        False        False            0          0.0   \n",
              "1        False        False        False            1         -0.0   \n",
              "2        False        False        False           -2         -0.3   \n",
              "3        False        False        False           -2         -0.2   \n",
              "4        False        False        False            0          0.0   \n",
              "\n",
              "   feat_DSSP_8  feat_DSSP_9  feat_DSSP_10  feat_DSSP_11  feat_DSSP_12  \\\n",
              "0            2         -0.3             0           0.0            47   \n",
              "1            2         -0.2             0           0.0             0   \n",
              "2          708         -0.1             1          -0.0            -1   \n",
              "3            2         -0.1           706          -0.1           705   \n",
              "4            2         -0.3             0           0.0           705   \n",
              "\n",
              "   feat_DSSP_13    coord_X  coord_Y    coord_Z        entry  entry_index  \\\n",
              "0          -0.0 -26.499001   -4.742 -35.189999  GEMI5_HUMAN            0   \n",
              "1           0.0 -25.158001   -1.342 -34.104000  GEMI5_HUMAN            1   \n",
              "2          -0.0 -21.926001   -1.641 -32.175999  GEMI5_HUMAN            2   \n",
              "3          -0.0 -22.073999    0.654 -29.171000  GEMI5_HUMAN            3   \n",
              "4          -0.2 -19.783001    2.670 -26.858999  GEMI5_HUMAN            4   \n",
              "\n",
              "   y_Ligand  \n",
              "0     False  \n",
              "1     False  \n",
              "2     False  \n",
              "3     False  \n",
              "4     False  "
            ],
            "text/html": [
              "\n",
              "  <div id=\"df-118b97c8-e029-4898-9153-4a8f36c332db\">\n",
              "    <div class=\"colab-df-container\">\n",
              "      <div>\n",
              "<style scoped>\n",
              "    .dataframe tbody tr th:only-of-type {\n",
              "        vertical-align: middle;\n",
              "    }\n",
              "\n",
              "    .dataframe tbody tr th {\n",
              "        vertical-align: top;\n",
              "    }\n",
              "\n",
              "    .dataframe thead th {\n",
              "        text-align: right;\n",
              "    }\n",
              "</style>\n",
              "<table border=\"1\" class=\"dataframe\">\n",
              "  <thead>\n",
              "    <tr style=\"text-align: right;\">\n",
              "      <th></th>\n",
              "      <th>Unnamed: 0</th>\n",
              "      <th>annotation_sequence</th>\n",
              "      <th>feat_A</th>\n",
              "      <th>feat_C</th>\n",
              "      <th>feat_D</th>\n",
              "      <th>feat_E</th>\n",
              "      <th>feat_F</th>\n",
              "      <th>feat_G</th>\n",
              "      <th>feat_H</th>\n",
              "      <th>feat_I</th>\n",
              "      <th>feat_K</th>\n",
              "      <th>feat_L</th>\n",
              "      <th>feat_M</th>\n",
              "      <th>feat_N</th>\n",
              "      <th>feat_P</th>\n",
              "      <th>feat_Q</th>\n",
              "      <th>feat_R</th>\n",
              "      <th>feat_S</th>\n",
              "      <th>feat_T</th>\n",
              "      <th>feat_V</th>\n",
              "      <th>feat_W</th>\n",
              "      <th>feat_Y</th>\n",
              "      <th>annotation_atomrec</th>\n",
              "      <th>feat_PHI</th>\n",
              "      <th>feat_PSI</th>\n",
              "      <th>feat_TAU</th>\n",
              "      <th>feat_THETA</th>\n",
              "      <th>feat_BBSASA</th>\n",
              "      <th>feat_SCSASA</th>\n",
              "      <th>feat_pLDDT</th>\n",
              "      <th>feat_DSSP_H</th>\n",
              "      <th>feat_DSSP_B</th>\n",
              "      <th>feat_DSSP_E</th>\n",
              "      <th>feat_DSSP_G</th>\n",
              "      <th>feat_DSSP_I</th>\n",
              "      <th>feat_DSSP_T</th>\n",
              "      <th>feat_DSSP_S</th>\n",
              "      <th>feat_DSSP_6</th>\n",
              "      <th>feat_DSSP_7</th>\n",
              "      <th>feat_DSSP_8</th>\n",
              "      <th>feat_DSSP_9</th>\n",
              "      <th>feat_DSSP_10</th>\n",
              "      <th>feat_DSSP_11</th>\n",
              "      <th>feat_DSSP_12</th>\n",
              "      <th>feat_DSSP_13</th>\n",
              "      <th>coord_X</th>\n",
              "      <th>coord_Y</th>\n",
              "      <th>coord_Z</th>\n",
              "      <th>entry</th>\n",
              "      <th>entry_index</th>\n",
              "      <th>y_Ligand</th>\n",
              "    </tr>\n",
              "  </thead>\n",
              "  <tbody>\n",
              "    <tr>\n",
              "      <th>0</th>\n",
              "      <td>0</td>\n",
              "      <td>M</td>\n",
              "      <td>False</td>\n",
              "      <td>False</td>\n",
              "      <td>False</td>\n",
              "      <td>False</td>\n",
              "      <td>False</td>\n",
              "      <td>False</td>\n",
              "      <td>False</td>\n",
              "      <td>False</td>\n",
              "      <td>False</td>\n",
              "      <td>False</td>\n",
              "      <td>True</td>\n",
              "      <td>False</td>\n",
              "      <td>False</td>\n",
              "      <td>False</td>\n",
              "      <td>False</td>\n",
              "      <td>False</td>\n",
              "      <td>False</td>\n",
              "      <td>False</td>\n",
              "      <td>False</td>\n",
              "      <td>False</td>\n",
              "      <td>M</td>\n",
              "      <td>0.000000</td>\n",
              "      <td>2.257610</td>\n",
              "      <td>-2.375020</td>\n",
              "      <td>1.956201</td>\n",
              "      <td>80.020602</td>\n",
              "      <td>137.023818</td>\n",
              "      <td>38.49</td>\n",
              "      <td>False</td>\n",
              "      <td>False</td>\n",
              "      <td>False</td>\n",
              "      <td>False</td>\n",
              "      <td>False</td>\n",
              "      <td>False</td>\n",
              "      <td>False</td>\n",
              "      <td>0</td>\n",
              "      <td>0.0</td>\n",
              "      <td>2</td>\n",
              "      <td>-0.3</td>\n",
              "      <td>0</td>\n",
              "      <td>0.0</td>\n",
              "      <td>47</td>\n",
              "      <td>-0.0</td>\n",
              "      <td>-26.499001</td>\n",
              "      <td>-4.742</td>\n",
              "      <td>-35.189999</td>\n",
              "      <td>GEMI5_HUMAN</td>\n",
              "      <td>0</td>\n",
              "      <td>False</td>\n",
              "    </tr>\n",
              "    <tr>\n",
              "      <th>1</th>\n",
              "      <td>1</td>\n",
              "      <td>G</td>\n",
              "      <td>False</td>\n",
              "      <td>False</td>\n",
              "      <td>False</td>\n",
              "      <td>False</td>\n",
              "      <td>False</td>\n",
              "      <td>True</td>\n",
              "      <td>False</td>\n",
              "      <td>False</td>\n",
              "      <td>False</td>\n",
              "      <td>False</td>\n",
              "      <td>False</td>\n",
              "      <td>False</td>\n",
              "      <td>False</td>\n",
              "      <td>False</td>\n",
              "      <td>False</td>\n",
              "      <td>False</td>\n",
              "      <td>False</td>\n",
              "      <td>False</td>\n",
              "      <td>False</td>\n",
              "      <td>False</td>\n",
              "      <td>G</td>\n",
              "      <td>-1.100680</td>\n",
              "      <td>2.224168</td>\n",
              "      <td>-2.654037</td>\n",
              "      <td>1.900792</td>\n",
              "      <td>69.542382</td>\n",
              "      <td>0.000000</td>\n",
              "      <td>46.08</td>\n",
              "      <td>False</td>\n",
              "      <td>False</td>\n",
              "      <td>False</td>\n",
              "      <td>False</td>\n",
              "      <td>False</td>\n",
              "      <td>False</td>\n",
              "      <td>False</td>\n",
              "      <td>1</td>\n",
              "      <td>-0.0</td>\n",
              "      <td>2</td>\n",
              "      <td>-0.2</td>\n",
              "      <td>0</td>\n",
              "      <td>0.0</td>\n",
              "      <td>0</td>\n",
              "      <td>0.0</td>\n",
              "      <td>-25.158001</td>\n",
              "      <td>-1.342</td>\n",
              "      <td>-34.104000</td>\n",
              "      <td>GEMI5_HUMAN</td>\n",
              "      <td>1</td>\n",
              "      <td>False</td>\n",
              "    </tr>\n",
              "    <tr>\n",
              "      <th>2</th>\n",
              "      <td>2</td>\n",
              "      <td>Q</td>\n",
              "      <td>False</td>\n",
              "      <td>False</td>\n",
              "      <td>False</td>\n",
              "      <td>False</td>\n",
              "      <td>False</td>\n",
              "      <td>False</td>\n",
              "      <td>False</td>\n",
              "      <td>False</td>\n",
              "      <td>False</td>\n",
              "      <td>False</td>\n",
              "      <td>False</td>\n",
              "      <td>False</td>\n",
              "      <td>False</td>\n",
              "      <td>True</td>\n",
              "      <td>False</td>\n",
              "      <td>False</td>\n",
              "      <td>False</td>\n",
              "      <td>False</td>\n",
              "      <td>False</td>\n",
              "      <td>False</td>\n",
              "      <td>Q</td>\n",
              "      <td>-1.295398</td>\n",
              "      <td>2.676551</td>\n",
              "      <td>-1.696727</td>\n",
              "      <td>2.458310</td>\n",
              "      <td>23.387401</td>\n",
              "      <td>88.587659</td>\n",
              "      <td>65.42</td>\n",
              "      <td>False</td>\n",
              "      <td>False</td>\n",
              "      <td>False</td>\n",
              "      <td>False</td>\n",
              "      <td>False</td>\n",
              "      <td>False</td>\n",
              "      <td>False</td>\n",
              "      <td>-2</td>\n",
              "      <td>-0.3</td>\n",
              "      <td>708</td>\n",
              "      <td>-0.1</td>\n",
              "      <td>1</td>\n",
              "      <td>-0.0</td>\n",
              "      <td>-1</td>\n",
              "      <td>-0.0</td>\n",
              "      <td>-21.926001</td>\n",
              "      <td>-1.641</td>\n",
              "      <td>-32.175999</td>\n",
              "      <td>GEMI5_HUMAN</td>\n",
              "      <td>2</td>\n",
              "      <td>False</td>\n",
              "    </tr>\n",
              "    <tr>\n",
              "      <th>3</th>\n",
              "      <td>3</td>\n",
              "      <td>E</td>\n",
              "      <td>False</td>\n",
              "      <td>False</td>\n",
              "      <td>False</td>\n",
              "      <td>True</td>\n",
              "      <td>False</td>\n",
              "      <td>False</td>\n",
              "      <td>False</td>\n",
              "      <td>False</td>\n",
              "      <td>False</td>\n",
              "      <td>False</td>\n",
              "      <td>False</td>\n",
              "      <td>False</td>\n",
              "      <td>False</td>\n",
              "      <td>False</td>\n",
              "      <td>False</td>\n",
              "      <td>False</td>\n",
              "      <td>False</td>\n",
              "      <td>False</td>\n",
              "      <td>False</td>\n",
              "      <td>False</td>\n",
              "      <td>E</td>\n",
              "      <td>-2.352796</td>\n",
              "      <td>2.665542</td>\n",
              "      <td>-2.810012</td>\n",
              "      <td>2.054226</td>\n",
              "      <td>4.908812</td>\n",
              "      <td>44.521273</td>\n",
              "      <td>85.17</td>\n",
              "      <td>False</td>\n",
              "      <td>False</td>\n",
              "      <td>False</td>\n",
              "      <td>False</td>\n",
              "      <td>False</td>\n",
              "      <td>False</td>\n",
              "      <td>False</td>\n",
              "      <td>-2</td>\n",
              "      <td>-0.2</td>\n",
              "      <td>2</td>\n",
              "      <td>-0.1</td>\n",
              "      <td>706</td>\n",
              "      <td>-0.1</td>\n",
              "      <td>705</td>\n",
              "      <td>-0.0</td>\n",
              "      <td>-22.073999</td>\n",
              "      <td>0.654</td>\n",
              "      <td>-29.171000</td>\n",
              "      <td>GEMI5_HUMAN</td>\n",
              "      <td>3</td>\n",
              "      <td>False</td>\n",
              "    </tr>\n",
              "    <tr>\n",
              "      <th>4</th>\n",
              "      <td>4</td>\n",
              "      <td>P</td>\n",
              "      <td>False</td>\n",
              "      <td>False</td>\n",
              "      <td>False</td>\n",
              "      <td>False</td>\n",
              "      <td>False</td>\n",
              "      <td>False</td>\n",
              "      <td>False</td>\n",
              "      <td>False</td>\n",
              "      <td>False</td>\n",
              "      <td>False</td>\n",
              "      <td>False</td>\n",
              "      <td>False</td>\n",
              "      <td>True</td>\n",
              "      <td>False</td>\n",
              "      <td>False</td>\n",
              "      <td>False</td>\n",
              "      <td>False</td>\n",
              "      <td>False</td>\n",
              "      <td>False</td>\n",
              "      <td>False</td>\n",
              "      <td>P</td>\n",
              "      <td>-1.134474</td>\n",
              "      <td>2.612150</td>\n",
              "      <td>-2.754863</td>\n",
              "      <td>2.272191</td>\n",
              "      <td>9.742674</td>\n",
              "      <td>52.613700</td>\n",
              "      <td>93.24</td>\n",
              "      <td>False</td>\n",
              "      <td>False</td>\n",
              "      <td>False</td>\n",
              "      <td>False</td>\n",
              "      <td>False</td>\n",
              "      <td>False</td>\n",
              "      <td>False</td>\n",
              "      <td>0</td>\n",
              "      <td>0.0</td>\n",
              "      <td>2</td>\n",
              "      <td>-0.3</td>\n",
              "      <td>0</td>\n",
              "      <td>0.0</td>\n",
              "      <td>705</td>\n",
              "      <td>-0.2</td>\n",
              "      <td>-19.783001</td>\n",
              "      <td>2.670</td>\n",
              "      <td>-26.858999</td>\n",
              "      <td>GEMI5_HUMAN</td>\n",
              "      <td>4</td>\n",
              "      <td>False</td>\n",
              "    </tr>\n",
              "  </tbody>\n",
              "</table>\n",
              "</div>\n",
              "      <button class=\"colab-df-convert\" onclick=\"convertToInteractive('df-118b97c8-e029-4898-9153-4a8f36c332db')\"\n",
              "              title=\"Convert this dataframe to an interactive table.\"\n",
              "              style=\"display:none;\">\n",
              "        \n",
              "  <svg xmlns=\"http://www.w3.org/2000/svg\" height=\"24px\"viewBox=\"0 0 24 24\"\n",
              "       width=\"24px\">\n",
              "    <path d=\"M0 0h24v24H0V0z\" fill=\"none\"/>\n",
              "    <path d=\"M18.56 5.44l.94 2.06.94-2.06 2.06-.94-2.06-.94-.94-2.06-.94 2.06-2.06.94zm-11 1L8.5 8.5l.94-2.06 2.06-.94-2.06-.94L8.5 2.5l-.94 2.06-2.06.94zm10 10l.94 2.06.94-2.06 2.06-.94-2.06-.94-.94-2.06-.94 2.06-2.06.94z\"/><path d=\"M17.41 7.96l-1.37-1.37c-.4-.4-.92-.59-1.43-.59-.52 0-1.04.2-1.43.59L10.3 9.45l-7.72 7.72c-.78.78-.78 2.05 0 2.83L4 21.41c.39.39.9.59 1.41.59.51 0 1.02-.2 1.41-.59l7.78-7.78 2.81-2.81c.8-.78.8-2.07 0-2.86zM5.41 20L4 18.59l7.72-7.72 1.47 1.35L5.41 20z\"/>\n",
              "  </svg>\n",
              "      </button>\n",
              "      \n",
              "  <style>\n",
              "    .colab-df-container {\n",
              "      display:flex;\n",
              "      flex-wrap:wrap;\n",
              "      gap: 12px;\n",
              "    }\n",
              "\n",
              "    .colab-df-convert {\n",
              "      background-color: #E8F0FE;\n",
              "      border: none;\n",
              "      border-radius: 50%;\n",
              "      cursor: pointer;\n",
              "      display: none;\n",
              "      fill: #1967D2;\n",
              "      height: 32px;\n",
              "      padding: 0 0 0 0;\n",
              "      width: 32px;\n",
              "    }\n",
              "\n",
              "    .colab-df-convert:hover {\n",
              "      background-color: #E2EBFA;\n",
              "      box-shadow: 0px 1px 2px rgba(60, 64, 67, 0.3), 0px 1px 3px 1px rgba(60, 64, 67, 0.15);\n",
              "      fill: #174EA6;\n",
              "    }\n",
              "\n",
              "    [theme=dark] .colab-df-convert {\n",
              "      background-color: #3B4455;\n",
              "      fill: #D2E3FC;\n",
              "    }\n",
              "\n",
              "    [theme=dark] .colab-df-convert:hover {\n",
              "      background-color: #434B5C;\n",
              "      box-shadow: 0px 1px 3px 1px rgba(0, 0, 0, 0.15);\n",
              "      filter: drop-shadow(0px 1px 2px rgba(0, 0, 0, 0.3));\n",
              "      fill: #FFFFFF;\n",
              "    }\n",
              "  </style>\n",
              "\n",
              "      <script>\n",
              "        const buttonEl =\n",
              "          document.querySelector('#df-118b97c8-e029-4898-9153-4a8f36c332db button.colab-df-convert');\n",
              "        buttonEl.style.display =\n",
              "          google.colab.kernel.accessAllowed ? 'block' : 'none';\n",
              "\n",
              "        async function convertToInteractive(key) {\n",
              "          const element = document.querySelector('#df-118b97c8-e029-4898-9153-4a8f36c332db');\n",
              "          const dataTable =\n",
              "            await google.colab.kernel.invokeFunction('convertToInteractive',\n",
              "                                                     [key], {});\n",
              "          if (!dataTable) return;\n",
              "\n",
              "          const docLinkHtml = 'Like what you see? Visit the ' +\n",
              "            '<a target=\"_blank\" href=https://colab.research.google.com/notebooks/data_table.ipynb>data table notebook</a>'\n",
              "            + ' to learn more about interactive tables.';\n",
              "          element.innerHTML = '';\n",
              "          dataTable['output_type'] = 'display_data';\n",
              "          await google.colab.output.renderOutput(dataTable, element);\n",
              "          const docLink = document.createElement('div');\n",
              "          docLink.innerHTML = docLinkHtml;\n",
              "          element.appendChild(docLink);\n",
              "        }\n",
              "      </script>\n",
              "    </div>\n",
              "  </div>\n",
              "  "
            ]
          },
          "metadata": {},
          "execution_count": 6
        }
      ],
      "source": [
        "train.head()"
      ]
    },
    {
      "cell_type": "code",
      "execution_count": null,
      "metadata": {
        "colab": {
          "base_uri": "https://localhost:8080/",
          "height": 288
        },
        "id": "ikovk2gXPC-x",
        "outputId": "c7c3d8ea-0a9a-4b2b-9f1c-237d8709d20b"
      },
      "outputs": [
        {
          "output_type": "execute_result",
          "data": {
            "text/plain": [
              "        Unnamed: 0 annotation_sequence  feat_A  feat_C  feat_D  feat_E  \\\n",
              "318769         242                   D   False   False    True   False   \n",
              "304091         897                   V   False   False   False   False   \n",
              "265707         642                   P   False   False   False   False   \n",
              "404340         136                   E   False   False   False    True   \n",
              "385860          37                   F   False   False   False   False   \n",
              "\n",
              "        feat_F  feat_G  feat_H  feat_I  feat_K  feat_L  feat_M  feat_N  \\\n",
              "318769   False   False   False   False   False   False   False   False   \n",
              "304091   False   False   False   False   False   False   False   False   \n",
              "265707   False   False   False   False   False   False   False   False   \n",
              "404340   False   False   False   False   False   False   False   False   \n",
              "385860    True   False   False   False   False   False   False   False   \n",
              "\n",
              "        feat_P  feat_Q  feat_R  feat_S  feat_T  feat_V  feat_W  feat_Y  \\\n",
              "318769   False   False   False   False   False   False   False   False   \n",
              "304091   False   False   False   False   False    True   False   False   \n",
              "265707    True   False   False   False   False   False   False   False   \n",
              "404340   False   False   False   False   False   False   False   False   \n",
              "385860   False   False   False   False   False   False   False   False   \n",
              "\n",
              "       annotation_atomrec  feat_PHI  feat_PSI  feat_TAU  feat_THETA  \\\n",
              "318769                  D -1.939785  0.241806 -1.763326    2.103757   \n",
              "304091                  V -2.182156  2.558889 -2.371570    1.836922   \n",
              "265707                  P -2.247400 -2.877092  1.903913    2.844326   \n",
              "404340                  E -2.134911  2.629427 -1.906749    1.983219   \n",
              "385860                  F -0.981738 -0.835748  0.900864    1.617838   \n",
              "\n",
              "        feat_BBSASA  feat_SCSASA  feat_pLDDT  feat_DSSP_H  feat_DSSP_B  \\\n",
              "318769    35.860760    70.624097       88.20        False        False   \n",
              "304091     0.131205     2.507437       91.01        False         True   \n",
              "265707    33.676742    29.378375       35.01        False        False   \n",
              "404340     4.969799   116.538382       93.21        False        False   \n",
              "385860     9.188068    75.588787       94.27         True        False   \n",
              "\n",
              "        feat_DSSP_E  feat_DSSP_G  feat_DSSP_I  feat_DSSP_T  feat_DSSP_S  \\\n",
              "318769        False         True        False        False        False   \n",
              "304091        False        False        False        False        False   \n",
              "265707        False        False        False        False        False   \n",
              "404340         True        False        False        False        False   \n",
              "385860        False        False        False        False        False   \n",
              "\n",
              "        feat_DSSP_6  feat_DSSP_7  feat_DSSP_8  feat_DSSP_9  feat_DSSP_10  \\\n",
              "318769           -3         -1.6           -1         -0.3             2   \n",
              "304091           -3         -0.9            2         -0.5           145   \n",
              "265707            0          0.0          447         -0.2             0   \n",
              "404340          -47         -0.1            2         -0.2           -46   \n",
              "385860           -4         -2.3            4         -2.1            -5   \n",
              "\n",
              "        feat_DSSP_11  feat_DSSP_12  feat_DSSP_13    coord_X    coord_Y  \\\n",
              "318769          -0.0            -2          -0.2  10.788000 -15.369000   \n",
              "304091          -0.3            -3          -0.4 -15.526000 -15.658000   \n",
              "265707           0.0            -1          -0.1 -62.754002 -47.051998   \n",
              "404340          -0.1            -2          -0.1  19.125000  26.815001   \n",
              "385860          -0.3             5          -0.2  13.837000 -18.408001   \n",
              "\n",
              "          coord_Z        entry  entry_index  y_Ligand  \n",
              "318769 -15.733000   CAN3_HUMAN          242     False  \n",
              "304091 -21.326000  VGFR2_HUMAN          897      True  \n",
              "265707  -7.737000   WNK3_HUMAN          642     False  \n",
              "404340 -35.900002  ERAP1_HUMAN          136     False  \n",
              "385860 -48.942001  ABCC8_HUMAN           37     False  "
            ],
            "text/html": [
              "\n",
              "  <div id=\"df-bc035988-926b-4d33-ae74-63139894512f\">\n",
              "    <div class=\"colab-df-container\">\n",
              "      <div>\n",
              "<style scoped>\n",
              "    .dataframe tbody tr th:only-of-type {\n",
              "        vertical-align: middle;\n",
              "    }\n",
              "\n",
              "    .dataframe tbody tr th {\n",
              "        vertical-align: top;\n",
              "    }\n",
              "\n",
              "    .dataframe thead th {\n",
              "        text-align: right;\n",
              "    }\n",
              "</style>\n",
              "<table border=\"1\" class=\"dataframe\">\n",
              "  <thead>\n",
              "    <tr style=\"text-align: right;\">\n",
              "      <th></th>\n",
              "      <th>Unnamed: 0</th>\n",
              "      <th>annotation_sequence</th>\n",
              "      <th>feat_A</th>\n",
              "      <th>feat_C</th>\n",
              "      <th>feat_D</th>\n",
              "      <th>feat_E</th>\n",
              "      <th>feat_F</th>\n",
              "      <th>feat_G</th>\n",
              "      <th>feat_H</th>\n",
              "      <th>feat_I</th>\n",
              "      <th>feat_K</th>\n",
              "      <th>feat_L</th>\n",
              "      <th>feat_M</th>\n",
              "      <th>feat_N</th>\n",
              "      <th>feat_P</th>\n",
              "      <th>feat_Q</th>\n",
              "      <th>feat_R</th>\n",
              "      <th>feat_S</th>\n",
              "      <th>feat_T</th>\n",
              "      <th>feat_V</th>\n",
              "      <th>feat_W</th>\n",
              "      <th>feat_Y</th>\n",
              "      <th>annotation_atomrec</th>\n",
              "      <th>feat_PHI</th>\n",
              "      <th>feat_PSI</th>\n",
              "      <th>feat_TAU</th>\n",
              "      <th>feat_THETA</th>\n",
              "      <th>feat_BBSASA</th>\n",
              "      <th>feat_SCSASA</th>\n",
              "      <th>feat_pLDDT</th>\n",
              "      <th>feat_DSSP_H</th>\n",
              "      <th>feat_DSSP_B</th>\n",
              "      <th>feat_DSSP_E</th>\n",
              "      <th>feat_DSSP_G</th>\n",
              "      <th>feat_DSSP_I</th>\n",
              "      <th>feat_DSSP_T</th>\n",
              "      <th>feat_DSSP_S</th>\n",
              "      <th>feat_DSSP_6</th>\n",
              "      <th>feat_DSSP_7</th>\n",
              "      <th>feat_DSSP_8</th>\n",
              "      <th>feat_DSSP_9</th>\n",
              "      <th>feat_DSSP_10</th>\n",
              "      <th>feat_DSSP_11</th>\n",
              "      <th>feat_DSSP_12</th>\n",
              "      <th>feat_DSSP_13</th>\n",
              "      <th>coord_X</th>\n",
              "      <th>coord_Y</th>\n",
              "      <th>coord_Z</th>\n",
              "      <th>entry</th>\n",
              "      <th>entry_index</th>\n",
              "      <th>y_Ligand</th>\n",
              "    </tr>\n",
              "  </thead>\n",
              "  <tbody>\n",
              "    <tr>\n",
              "      <th>318769</th>\n",
              "      <td>242</td>\n",
              "      <td>D</td>\n",
              "      <td>False</td>\n",
              "      <td>False</td>\n",
              "      <td>True</td>\n",
              "      <td>False</td>\n",
              "      <td>False</td>\n",
              "      <td>False</td>\n",
              "      <td>False</td>\n",
              "      <td>False</td>\n",
              "      <td>False</td>\n",
              "      <td>False</td>\n",
              "      <td>False</td>\n",
              "      <td>False</td>\n",
              "      <td>False</td>\n",
              "      <td>False</td>\n",
              "      <td>False</td>\n",
              "      <td>False</td>\n",
              "      <td>False</td>\n",
              "      <td>False</td>\n",
              "      <td>False</td>\n",
              "      <td>False</td>\n",
              "      <td>D</td>\n",
              "      <td>-1.939785</td>\n",
              "      <td>0.241806</td>\n",
              "      <td>-1.763326</td>\n",
              "      <td>2.103757</td>\n",
              "      <td>35.860760</td>\n",
              "      <td>70.624097</td>\n",
              "      <td>88.20</td>\n",
              "      <td>False</td>\n",
              "      <td>False</td>\n",
              "      <td>False</td>\n",
              "      <td>True</td>\n",
              "      <td>False</td>\n",
              "      <td>False</td>\n",
              "      <td>False</td>\n",
              "      <td>-3</td>\n",
              "      <td>-1.6</td>\n",
              "      <td>-1</td>\n",
              "      <td>-0.3</td>\n",
              "      <td>2</td>\n",
              "      <td>-0.0</td>\n",
              "      <td>-2</td>\n",
              "      <td>-0.2</td>\n",
              "      <td>10.788000</td>\n",
              "      <td>-15.369000</td>\n",
              "      <td>-15.733000</td>\n",
              "      <td>CAN3_HUMAN</td>\n",
              "      <td>242</td>\n",
              "      <td>False</td>\n",
              "    </tr>\n",
              "    <tr>\n",
              "      <th>304091</th>\n",
              "      <td>897</td>\n",
              "      <td>V</td>\n",
              "      <td>False</td>\n",
              "      <td>False</td>\n",
              "      <td>False</td>\n",
              "      <td>False</td>\n",
              "      <td>False</td>\n",
              "      <td>False</td>\n",
              "      <td>False</td>\n",
              "      <td>False</td>\n",
              "      <td>False</td>\n",
              "      <td>False</td>\n",
              "      <td>False</td>\n",
              "      <td>False</td>\n",
              "      <td>False</td>\n",
              "      <td>False</td>\n",
              "      <td>False</td>\n",
              "      <td>False</td>\n",
              "      <td>False</td>\n",
              "      <td>True</td>\n",
              "      <td>False</td>\n",
              "      <td>False</td>\n",
              "      <td>V</td>\n",
              "      <td>-2.182156</td>\n",
              "      <td>2.558889</td>\n",
              "      <td>-2.371570</td>\n",
              "      <td>1.836922</td>\n",
              "      <td>0.131205</td>\n",
              "      <td>2.507437</td>\n",
              "      <td>91.01</td>\n",
              "      <td>False</td>\n",
              "      <td>True</td>\n",
              "      <td>False</td>\n",
              "      <td>False</td>\n",
              "      <td>False</td>\n",
              "      <td>False</td>\n",
              "      <td>False</td>\n",
              "      <td>-3</td>\n",
              "      <td>-0.9</td>\n",
              "      <td>2</td>\n",
              "      <td>-0.5</td>\n",
              "      <td>145</td>\n",
              "      <td>-0.3</td>\n",
              "      <td>-3</td>\n",
              "      <td>-0.4</td>\n",
              "      <td>-15.526000</td>\n",
              "      <td>-15.658000</td>\n",
              "      <td>-21.326000</td>\n",
              "      <td>VGFR2_HUMAN</td>\n",
              "      <td>897</td>\n",
              "      <td>True</td>\n",
              "    </tr>\n",
              "    <tr>\n",
              "      <th>265707</th>\n",
              "      <td>642</td>\n",
              "      <td>P</td>\n",
              "      <td>False</td>\n",
              "      <td>False</td>\n",
              "      <td>False</td>\n",
              "      <td>False</td>\n",
              "      <td>False</td>\n",
              "      <td>False</td>\n",
              "      <td>False</td>\n",
              "      <td>False</td>\n",
              "      <td>False</td>\n",
              "      <td>False</td>\n",
              "      <td>False</td>\n",
              "      <td>False</td>\n",
              "      <td>True</td>\n",
              "      <td>False</td>\n",
              "      <td>False</td>\n",
              "      <td>False</td>\n",
              "      <td>False</td>\n",
              "      <td>False</td>\n",
              "      <td>False</td>\n",
              "      <td>False</td>\n",
              "      <td>P</td>\n",
              "      <td>-2.247400</td>\n",
              "      <td>-2.877092</td>\n",
              "      <td>1.903913</td>\n",
              "      <td>2.844326</td>\n",
              "      <td>33.676742</td>\n",
              "      <td>29.378375</td>\n",
              "      <td>35.01</td>\n",
              "      <td>False</td>\n",
              "      <td>False</td>\n",
              "      <td>False</td>\n",
              "      <td>False</td>\n",
              "      <td>False</td>\n",
              "      <td>False</td>\n",
              "      <td>False</td>\n",
              "      <td>0</td>\n",
              "      <td>0.0</td>\n",
              "      <td>447</td>\n",
              "      <td>-0.2</td>\n",
              "      <td>0</td>\n",
              "      <td>0.0</td>\n",
              "      <td>-1</td>\n",
              "      <td>-0.1</td>\n",
              "      <td>-62.754002</td>\n",
              "      <td>-47.051998</td>\n",
              "      <td>-7.737000</td>\n",
              "      <td>WNK3_HUMAN</td>\n",
              "      <td>642</td>\n",
              "      <td>False</td>\n",
              "    </tr>\n",
              "    <tr>\n",
              "      <th>404340</th>\n",
              "      <td>136</td>\n",
              "      <td>E</td>\n",
              "      <td>False</td>\n",
              "      <td>False</td>\n",
              "      <td>False</td>\n",
              "      <td>True</td>\n",
              "      <td>False</td>\n",
              "      <td>False</td>\n",
              "      <td>False</td>\n",
              "      <td>False</td>\n",
              "      <td>False</td>\n",
              "      <td>False</td>\n",
              "      <td>False</td>\n",
              "      <td>False</td>\n",
              "      <td>False</td>\n",
              "      <td>False</td>\n",
              "      <td>False</td>\n",
              "      <td>False</td>\n",
              "      <td>False</td>\n",
              "      <td>False</td>\n",
              "      <td>False</td>\n",
              "      <td>False</td>\n",
              "      <td>E</td>\n",
              "      <td>-2.134911</td>\n",
              "      <td>2.629427</td>\n",
              "      <td>-1.906749</td>\n",
              "      <td>1.983219</td>\n",
              "      <td>4.969799</td>\n",
              "      <td>116.538382</td>\n",
              "      <td>93.21</td>\n",
              "      <td>False</td>\n",
              "      <td>False</td>\n",
              "      <td>True</td>\n",
              "      <td>False</td>\n",
              "      <td>False</td>\n",
              "      <td>False</td>\n",
              "      <td>False</td>\n",
              "      <td>-47</td>\n",
              "      <td>-0.1</td>\n",
              "      <td>2</td>\n",
              "      <td>-0.2</td>\n",
              "      <td>-46</td>\n",
              "      <td>-0.1</td>\n",
              "      <td>-2</td>\n",
              "      <td>-0.1</td>\n",
              "      <td>19.125000</td>\n",
              "      <td>26.815001</td>\n",
              "      <td>-35.900002</td>\n",
              "      <td>ERAP1_HUMAN</td>\n",
              "      <td>136</td>\n",
              "      <td>False</td>\n",
              "    </tr>\n",
              "    <tr>\n",
              "      <th>385860</th>\n",
              "      <td>37</td>\n",
              "      <td>F</td>\n",
              "      <td>False</td>\n",
              "      <td>False</td>\n",
              "      <td>False</td>\n",
              "      <td>False</td>\n",
              "      <td>True</td>\n",
              "      <td>False</td>\n",
              "      <td>False</td>\n",
              "      <td>False</td>\n",
              "      <td>False</td>\n",
              "      <td>False</td>\n",
              "      <td>False</td>\n",
              "      <td>False</td>\n",
              "      <td>False</td>\n",
              "      <td>False</td>\n",
              "      <td>False</td>\n",
              "      <td>False</td>\n",
              "      <td>False</td>\n",
              "      <td>False</td>\n",
              "      <td>False</td>\n",
              "      <td>False</td>\n",
              "      <td>F</td>\n",
              "      <td>-0.981738</td>\n",
              "      <td>-0.835748</td>\n",
              "      <td>0.900864</td>\n",
              "      <td>1.617838</td>\n",
              "      <td>9.188068</td>\n",
              "      <td>75.588787</td>\n",
              "      <td>94.27</td>\n",
              "      <td>True</td>\n",
              "      <td>False</td>\n",
              "      <td>False</td>\n",
              "      <td>False</td>\n",
              "      <td>False</td>\n",
              "      <td>False</td>\n",
              "      <td>False</td>\n",
              "      <td>-4</td>\n",
              "      <td>-2.3</td>\n",
              "      <td>4</td>\n",
              "      <td>-2.1</td>\n",
              "      <td>-5</td>\n",
              "      <td>-0.3</td>\n",
              "      <td>5</td>\n",
              "      <td>-0.2</td>\n",
              "      <td>13.837000</td>\n",
              "      <td>-18.408001</td>\n",
              "      <td>-48.942001</td>\n",
              "      <td>ABCC8_HUMAN</td>\n",
              "      <td>37</td>\n",
              "      <td>False</td>\n",
              "    </tr>\n",
              "  </tbody>\n",
              "</table>\n",
              "</div>\n",
              "      <button class=\"colab-df-convert\" onclick=\"convertToInteractive('df-bc035988-926b-4d33-ae74-63139894512f')\"\n",
              "              title=\"Convert this dataframe to an interactive table.\"\n",
              "              style=\"display:none;\">\n",
              "        \n",
              "  <svg xmlns=\"http://www.w3.org/2000/svg\" height=\"24px\"viewBox=\"0 0 24 24\"\n",
              "       width=\"24px\">\n",
              "    <path d=\"M0 0h24v24H0V0z\" fill=\"none\"/>\n",
              "    <path d=\"M18.56 5.44l.94 2.06.94-2.06 2.06-.94-2.06-.94-.94-2.06-.94 2.06-2.06.94zm-11 1L8.5 8.5l.94-2.06 2.06-.94-2.06-.94L8.5 2.5l-.94 2.06-2.06.94zm10 10l.94 2.06.94-2.06 2.06-.94-2.06-.94-.94-2.06-.94 2.06-2.06.94z\"/><path d=\"M17.41 7.96l-1.37-1.37c-.4-.4-.92-.59-1.43-.59-.52 0-1.04.2-1.43.59L10.3 9.45l-7.72 7.72c-.78.78-.78 2.05 0 2.83L4 21.41c.39.39.9.59 1.41.59.51 0 1.02-.2 1.41-.59l7.78-7.78 2.81-2.81c.8-.78.8-2.07 0-2.86zM5.41 20L4 18.59l7.72-7.72 1.47 1.35L5.41 20z\"/>\n",
              "  </svg>\n",
              "      </button>\n",
              "      \n",
              "  <style>\n",
              "    .colab-df-container {\n",
              "      display:flex;\n",
              "      flex-wrap:wrap;\n",
              "      gap: 12px;\n",
              "    }\n",
              "\n",
              "    .colab-df-convert {\n",
              "      background-color: #E8F0FE;\n",
              "      border: none;\n",
              "      border-radius: 50%;\n",
              "      cursor: pointer;\n",
              "      display: none;\n",
              "      fill: #1967D2;\n",
              "      height: 32px;\n",
              "      padding: 0 0 0 0;\n",
              "      width: 32px;\n",
              "    }\n",
              "\n",
              "    .colab-df-convert:hover {\n",
              "      background-color: #E2EBFA;\n",
              "      box-shadow: 0px 1px 2px rgba(60, 64, 67, 0.3), 0px 1px 3px 1px rgba(60, 64, 67, 0.15);\n",
              "      fill: #174EA6;\n",
              "    }\n",
              "\n",
              "    [theme=dark] .colab-df-convert {\n",
              "      background-color: #3B4455;\n",
              "      fill: #D2E3FC;\n",
              "    }\n",
              "\n",
              "    [theme=dark] .colab-df-convert:hover {\n",
              "      background-color: #434B5C;\n",
              "      box-shadow: 0px 1px 3px 1px rgba(0, 0, 0, 0.15);\n",
              "      filter: drop-shadow(0px 1px 2px rgba(0, 0, 0, 0.3));\n",
              "      fill: #FFFFFF;\n",
              "    }\n",
              "  </style>\n",
              "\n",
              "      <script>\n",
              "        const buttonEl =\n",
              "          document.querySelector('#df-bc035988-926b-4d33-ae74-63139894512f button.colab-df-convert');\n",
              "        buttonEl.style.display =\n",
              "          google.colab.kernel.accessAllowed ? 'block' : 'none';\n",
              "\n",
              "        async function convertToInteractive(key) {\n",
              "          const element = document.querySelector('#df-bc035988-926b-4d33-ae74-63139894512f');\n",
              "          const dataTable =\n",
              "            await google.colab.kernel.invokeFunction('convertToInteractive',\n",
              "                                                     [key], {});\n",
              "          if (!dataTable) return;\n",
              "\n",
              "          const docLinkHtml = 'Like what you see? Visit the ' +\n",
              "            '<a target=\"_blank\" href=https://colab.research.google.com/notebooks/data_table.ipynb>data table notebook</a>'\n",
              "            + ' to learn more about interactive tables.';\n",
              "          element.innerHTML = '';\n",
              "          dataTable['output_type'] = 'display_data';\n",
              "          await google.colab.output.renderOutput(dataTable, element);\n",
              "          const docLink = document.createElement('div');\n",
              "          docLink.innerHTML = docLinkHtml;\n",
              "          element.appendChild(docLink);\n",
              "        }\n",
              "      </script>\n",
              "    </div>\n",
              "  </div>\n",
              "  "
            ]
          },
          "metadata": {},
          "execution_count": 7
        }
      ],
      "source": [
        "train.sample(5)"
      ]
    },
    {
      "cell_type": "code",
      "execution_count": null,
      "metadata": {
        "colab": {
          "base_uri": "https://localhost:8080/"
        },
        "id": "ToM6I-nPSK26",
        "outputId": "35e07e50-6686-4df3-bfbe-9d5cdafd3445"
      },
      "outputs": [
        {
          "output_type": "execute_result",
          "data": {
            "text/plain": [
              "(497166, 51)"
            ]
          },
          "metadata": {},
          "execution_count": 8
        }
      ],
      "source": [
        "train.shape"
      ]
    },
    {
      "cell_type": "code",
      "execution_count": null,
      "metadata": {
        "colab": {
          "base_uri": "https://localhost:8080/"
        },
        "id": "7f0PBxDQMZz8",
        "outputId": "9e54f3f8-21ce-452b-9890-8d54bf2b4076"
      },
      "outputs": [
        {
          "output_type": "stream",
          "name": "stdout",
          "text": [
            "<class 'pandas.core.frame.DataFrame'>\n",
            "RangeIndex: 497166 entries, 0 to 497165\n",
            "Data columns (total 51 columns):\n",
            " #   Column               Non-Null Count   Dtype  \n",
            "---  ------               --------------   -----  \n",
            " 0   Unnamed: 0           497166 non-null  int64  \n",
            " 1   annotation_sequence  497166 non-null  object \n",
            " 2   feat_A               497166 non-null  bool   \n",
            " 3   feat_C               497166 non-null  bool   \n",
            " 4   feat_D               497166 non-null  bool   \n",
            " 5   feat_E               497166 non-null  bool   \n",
            " 6   feat_F               497166 non-null  bool   \n",
            " 7   feat_G               497166 non-null  bool   \n",
            " 8   feat_H               497166 non-null  bool   \n",
            " 9   feat_I               497166 non-null  bool   \n",
            " 10  feat_K               497166 non-null  bool   \n",
            " 11  feat_L               497166 non-null  bool   \n",
            " 12  feat_M               497166 non-null  bool   \n",
            " 13  feat_N               497166 non-null  bool   \n",
            " 14  feat_P               497166 non-null  bool   \n",
            " 15  feat_Q               497166 non-null  bool   \n",
            " 16  feat_R               497166 non-null  bool   \n",
            " 17  feat_S               497166 non-null  bool   \n",
            " 18  feat_T               497166 non-null  bool   \n",
            " 19  feat_V               497166 non-null  bool   \n",
            " 20  feat_W               497166 non-null  bool   \n",
            " 21  feat_Y               497166 non-null  bool   \n",
            " 22  annotation_atomrec   484477 non-null  object \n",
            " 23  feat_PHI             497166 non-null  float64\n",
            " 24  feat_PSI             497166 non-null  float64\n",
            " 25  feat_TAU             497166 non-null  float64\n",
            " 26  feat_THETA           497166 non-null  float64\n",
            " 27  feat_BBSASA          497166 non-null  float64\n",
            " 28  feat_SCSASA          497166 non-null  float64\n",
            " 29  feat_pLDDT           497166 non-null  float64\n",
            " 30  feat_DSSP_H          497166 non-null  bool   \n",
            " 31  feat_DSSP_B          497166 non-null  bool   \n",
            " 32  feat_DSSP_E          497166 non-null  bool   \n",
            " 33  feat_DSSP_G          497166 non-null  bool   \n",
            " 34  feat_DSSP_I          497166 non-null  bool   \n",
            " 35  feat_DSSP_T          497166 non-null  bool   \n",
            " 36  feat_DSSP_S          497166 non-null  bool   \n",
            " 37  feat_DSSP_6          497166 non-null  int64  \n",
            " 38  feat_DSSP_7          497166 non-null  float64\n",
            " 39  feat_DSSP_8          497166 non-null  int64  \n",
            " 40  feat_DSSP_9          497166 non-null  float64\n",
            " 41  feat_DSSP_10         497166 non-null  int64  \n",
            " 42  feat_DSSP_11         497166 non-null  float64\n",
            " 43  feat_DSSP_12         497166 non-null  int64  \n",
            " 44  feat_DSSP_13         497166 non-null  float64\n",
            " 45  coord_X              497166 non-null  float64\n",
            " 46  coord_Y              497166 non-null  float64\n",
            " 47  coord_Z              497166 non-null  float64\n",
            " 48  entry                497166 non-null  object \n",
            " 49  entry_index          497166 non-null  int64  \n",
            " 50  y_Ligand             497166 non-null  bool   \n",
            "dtypes: bool(28), float64(14), int64(6), object(3)\n",
            "memory usage: 100.5+ MB\n"
          ]
        }
      ],
      "source": [
        "train.info()"
      ]
    },
    {
      "cell_type": "code",
      "execution_count": null,
      "metadata": {
        "colab": {
          "base_uri": "https://localhost:8080/"
        },
        "id": "uxFuXNbo87i2",
        "outputId": "26ffe0a0-fe63-488f-e149-668479a6f03e"
      },
      "outputs": [
        {
          "output_type": "execute_result",
          "data": {
            "text/plain": [
              "Unnamed: 0                 0\n",
              "annotation_sequence        0\n",
              "feat_A                     0\n",
              "feat_C                     0\n",
              "feat_D                     0\n",
              "feat_E                     0\n",
              "feat_F                     0\n",
              "feat_G                     0\n",
              "feat_H                     0\n",
              "feat_I                     0\n",
              "feat_K                     0\n",
              "feat_L                     0\n",
              "feat_M                     0\n",
              "feat_N                     0\n",
              "feat_P                     0\n",
              "feat_Q                     0\n",
              "feat_R                     0\n",
              "feat_S                     0\n",
              "feat_T                     0\n",
              "feat_V                     0\n",
              "feat_W                     0\n",
              "feat_Y                     0\n",
              "annotation_atomrec     12689\n",
              "feat_PHI                   0\n",
              "feat_PSI                   0\n",
              "feat_TAU                   0\n",
              "feat_THETA                 0\n",
              "feat_BBSASA                0\n",
              "feat_SCSASA                0\n",
              "feat_pLDDT                 0\n",
              "feat_DSSP_H                0\n",
              "feat_DSSP_B                0\n",
              "feat_DSSP_E                0\n",
              "feat_DSSP_G                0\n",
              "feat_DSSP_I                0\n",
              "feat_DSSP_T                0\n",
              "feat_DSSP_S                0\n",
              "feat_DSSP_6                0\n",
              "feat_DSSP_7                0\n",
              "feat_DSSP_8                0\n",
              "feat_DSSP_9                0\n",
              "feat_DSSP_10               0\n",
              "feat_DSSP_11               0\n",
              "feat_DSSP_12               0\n",
              "feat_DSSP_13               0\n",
              "coord_X                    0\n",
              "coord_Y                    0\n",
              "coord_Z                    0\n",
              "entry                      0\n",
              "entry_index                0\n",
              "y_Ligand                   0\n",
              "dtype: int64"
            ]
          },
          "metadata": {},
          "execution_count": 10
        }
      ],
      "source": [
        "train.isnull().sum()"
      ]
    },
    {
      "cell_type": "code",
      "execution_count": null,
      "metadata": {
        "colab": {
          "base_uri": "https://localhost:8080/"
        },
        "id": "MZoOqt4b-zAF",
        "outputId": "d76b4e06-c7cd-4cc5-a232-c4e28ca59ffd"
      },
      "outputs": [
        {
          "output_type": "execute_result",
          "data": {
            "text/plain": [
              "False    479912\n",
              "True      17254\n",
              "Name: y_Ligand, dtype: int64"
            ]
          },
          "metadata": {},
          "execution_count": 11
        }
      ],
      "source": [
        "# Determining if the dataset is balanced\n",
        "train['y_Ligand'].value_counts()"
      ]
    },
    {
      "cell_type": "code",
      "execution_count": null,
      "metadata": {
        "colab": {
          "base_uri": "https://localhost:8080/"
        },
        "id": "-jZwOKRnSMze",
        "outputId": "53a4c9ae-373c-47ee-fb6b-23e5c3739833"
      },
      "outputs": [
        {
          "output_type": "stream",
          "name": "stdout",
          "text": [
            "Unnamed: 0               7385\n",
            "annotation_sequence        20\n",
            "feat_A                      2\n",
            "feat_C                      2\n",
            "feat_D                      2\n",
            "feat_E                      2\n",
            "feat_F                      2\n",
            "feat_G                      2\n",
            "feat_H                      2\n",
            "feat_I                      2\n",
            "feat_K                      2\n",
            "feat_L                      2\n",
            "feat_M                      2\n",
            "feat_N                      2\n",
            "feat_P                      2\n",
            "feat_Q                      2\n",
            "feat_R                      2\n",
            "feat_S                      2\n",
            "feat_T                      2\n",
            "feat_V                      2\n",
            "feat_W                      2\n",
            "feat_Y                      2\n",
            "annotation_atomrec         21\n",
            "feat_PHI               483754\n",
            "feat_PSI               484478\n",
            "feat_TAU               484478\n",
            "feat_THETA             484478\n",
            "feat_BBSASA            429217\n",
            "feat_SCSASA            437481\n",
            "feat_pLDDT               7956\n",
            "feat_DSSP_H                 2\n",
            "feat_DSSP_B                 2\n",
            "feat_DSSP_E                 2\n",
            "feat_DSSP_G                 2\n",
            "feat_DSSP_I                 2\n",
            "feat_DSSP_T                 2\n",
            "feat_DSSP_S                 2\n",
            "feat_DSSP_6              1639\n",
            "feat_DSSP_7                41\n",
            "feat_DSSP_8              1676\n",
            "feat_DSSP_9                41\n",
            "feat_DSSP_10             1697\n",
            "feat_DSSP_11               19\n",
            "feat_DSSP_12             1774\n",
            "feat_DSSP_13               30\n",
            "coord_X                116620\n",
            "coord_Y                100497\n",
            "coord_Z                119622\n",
            "entry                     723\n",
            "entry_index              7385\n",
            "y_Ligand                    2\n",
            "dtype: int64\n"
          ]
        }
      ],
      "source": [
        "# Finding number of unique values in each column\n",
        "print(train.apply(lambda col: len(col.unique())))"
      ]
    },
    {
      "cell_type": "code",
      "execution_count": null,
      "metadata": {
        "colab": {
          "base_uri": "https://localhost:8080/"
        },
        "id": "Nmgabh84ODBL",
        "outputId": "d3f9ed65-4d23-4d35-bbe5-044deeffbde2"
      },
      "outputs": [
        {
          "output_type": "stream",
          "name": "stdout",
          "text": [
            "['M' 'G' 'Q' 'E' 'P' 'R' 'T' 'L' 'S' 'N' 'W' 'Y' 'C' 'A' 'D' 'V' 'F' 'I'\n",
            " 'H' 'K' nan]\n",
            "['M' 'G' 'Q' 'E' 'P' 'R' 'T' 'L' 'S' 'N' 'W' 'Y' 'C' 'A' 'D' 'V' 'F' 'I'\n",
            " 'H' 'K']\n"
          ]
        }
      ],
      "source": [
        "print(train['annotation_atomrec'].unique())\n",
        "print(train['annotation_sequence'].unique())"
      ]
    },
    {
      "cell_type": "code",
      "execution_count": null,
      "metadata": {
        "colab": {
          "base_uri": "https://localhost:8080/",
          "height": 288
        },
        "id": "7EsrEhahcniO",
        "outputId": "cd4a9e46-cd75-4abb-eca2-00410760f54f"
      },
      "outputs": [
        {
          "output_type": "execute_result",
          "data": {
            "text/plain": [
              "        Unnamed: 0 annotation_sequence  feat_A  feat_C  feat_D  feat_E  \\\n",
              "447451        3148                   Q   False   False   False   False   \n",
              "276565        1585                   V   False   False   False   False   \n",
              "447562        3259                   E   False   False   False    True   \n",
              "208896        2034                   T   False   False   False   False   \n",
              "211423        4561                   T   False   False   False   False   \n",
              "\n",
              "        feat_F  feat_G  feat_H  feat_I  feat_K  feat_L  feat_M  feat_N  \\\n",
              "447451   False   False   False   False   False   False   False   False   \n",
              "276565   False   False   False   False   False   False   False   False   \n",
              "447562   False   False   False   False   False   False   False   False   \n",
              "208896   False   False   False   False   False   False   False   False   \n",
              "211423   False   False   False   False   False   False   False   False   \n",
              "\n",
              "        feat_P  feat_Q  feat_R  feat_S  feat_T  feat_V  feat_W  feat_Y  \\\n",
              "447451   False    True   False   False   False   False   False   False   \n",
              "276565   False   False   False   False   False    True   False   False   \n",
              "447562   False   False   False   False   False   False   False   False   \n",
              "208896   False   False   False   False    True   False   False   False   \n",
              "211423   False   False   False   False    True   False   False   False   \n",
              "\n",
              "       annotation_atomrec  feat_PHI  feat_PSI  feat_TAU  feat_THETA  \\\n",
              "447451                NaN       0.0       0.0       0.0         0.0   \n",
              "276565                NaN       0.0       0.0       0.0         0.0   \n",
              "447562                NaN       0.0       0.0       0.0         0.0   \n",
              "208896                NaN       0.0       0.0       0.0         0.0   \n",
              "211423                NaN       0.0       0.0       0.0         0.0   \n",
              "\n",
              "        feat_BBSASA  feat_SCSASA  feat_pLDDT  feat_DSSP_H  feat_DSSP_B  \\\n",
              "447451          0.0          0.0         0.0        False        False   \n",
              "276565          0.0          0.0         0.0        False        False   \n",
              "447562          0.0          0.0         0.0        False        False   \n",
              "208896          0.0          0.0         0.0        False        False   \n",
              "211423          0.0          0.0         0.0        False        False   \n",
              "\n",
              "        feat_DSSP_E  feat_DSSP_G  feat_DSSP_I  feat_DSSP_T  feat_DSSP_S  \\\n",
              "447451        False        False        False        False        False   \n",
              "276565        False        False        False        False        False   \n",
              "447562        False        False        False        False        False   \n",
              "208896        False        False        False        False        False   \n",
              "211423        False        False        False        False        False   \n",
              "\n",
              "        feat_DSSP_6  feat_DSSP_7  feat_DSSP_8  feat_DSSP_9  feat_DSSP_10  \\\n",
              "447451            0          0.0            0          0.0             0   \n",
              "276565            0          0.0            0          0.0             0   \n",
              "447562            0          0.0            0          0.0             0   \n",
              "208896            0          0.0            0          0.0             0   \n",
              "211423            0          0.0            0          0.0             0   \n",
              "\n",
              "        feat_DSSP_11  feat_DSSP_12  feat_DSSP_13  coord_X  coord_Y  coord_Z  \\\n",
              "447451           0.0             0           0.0      0.0      0.0      0.0   \n",
              "276565           0.0             0           0.0      0.0      0.0      0.0   \n",
              "447562           0.0             0           0.0      0.0      0.0      0.0   \n",
              "208896           0.0             0           0.0      0.0      0.0      0.0   \n",
              "211423           0.0             0           0.0      0.0      0.0      0.0   \n",
              "\n",
              "              entry  entry_index  y_Ligand  \n",
              "447451    DMD_HUMAN         3148     False  \n",
              "276565  HUWE1_HUMAN         1585     False  \n",
              "447562    DMD_HUMAN         3259     False  \n",
              "208896  MACF1_HUMAN         2034     False  \n",
              "211423  MACF1_HUMAN         4561     False  "
            ],
            "text/html": [
              "\n",
              "  <div id=\"df-e8b03310-1997-4c06-b308-a459dd603800\">\n",
              "    <div class=\"colab-df-container\">\n",
              "      <div>\n",
              "<style scoped>\n",
              "    .dataframe tbody tr th:only-of-type {\n",
              "        vertical-align: middle;\n",
              "    }\n",
              "\n",
              "    .dataframe tbody tr th {\n",
              "        vertical-align: top;\n",
              "    }\n",
              "\n",
              "    .dataframe thead th {\n",
              "        text-align: right;\n",
              "    }\n",
              "</style>\n",
              "<table border=\"1\" class=\"dataframe\">\n",
              "  <thead>\n",
              "    <tr style=\"text-align: right;\">\n",
              "      <th></th>\n",
              "      <th>Unnamed: 0</th>\n",
              "      <th>annotation_sequence</th>\n",
              "      <th>feat_A</th>\n",
              "      <th>feat_C</th>\n",
              "      <th>feat_D</th>\n",
              "      <th>feat_E</th>\n",
              "      <th>feat_F</th>\n",
              "      <th>feat_G</th>\n",
              "      <th>feat_H</th>\n",
              "      <th>feat_I</th>\n",
              "      <th>feat_K</th>\n",
              "      <th>feat_L</th>\n",
              "      <th>feat_M</th>\n",
              "      <th>feat_N</th>\n",
              "      <th>feat_P</th>\n",
              "      <th>feat_Q</th>\n",
              "      <th>feat_R</th>\n",
              "      <th>feat_S</th>\n",
              "      <th>feat_T</th>\n",
              "      <th>feat_V</th>\n",
              "      <th>feat_W</th>\n",
              "      <th>feat_Y</th>\n",
              "      <th>annotation_atomrec</th>\n",
              "      <th>feat_PHI</th>\n",
              "      <th>feat_PSI</th>\n",
              "      <th>feat_TAU</th>\n",
              "      <th>feat_THETA</th>\n",
              "      <th>feat_BBSASA</th>\n",
              "      <th>feat_SCSASA</th>\n",
              "      <th>feat_pLDDT</th>\n",
              "      <th>feat_DSSP_H</th>\n",
              "      <th>feat_DSSP_B</th>\n",
              "      <th>feat_DSSP_E</th>\n",
              "      <th>feat_DSSP_G</th>\n",
              "      <th>feat_DSSP_I</th>\n",
              "      <th>feat_DSSP_T</th>\n",
              "      <th>feat_DSSP_S</th>\n",
              "      <th>feat_DSSP_6</th>\n",
              "      <th>feat_DSSP_7</th>\n",
              "      <th>feat_DSSP_8</th>\n",
              "      <th>feat_DSSP_9</th>\n",
              "      <th>feat_DSSP_10</th>\n",
              "      <th>feat_DSSP_11</th>\n",
              "      <th>feat_DSSP_12</th>\n",
              "      <th>feat_DSSP_13</th>\n",
              "      <th>coord_X</th>\n",
              "      <th>coord_Y</th>\n",
              "      <th>coord_Z</th>\n",
              "      <th>entry</th>\n",
              "      <th>entry_index</th>\n",
              "      <th>y_Ligand</th>\n",
              "    </tr>\n",
              "  </thead>\n",
              "  <tbody>\n",
              "    <tr>\n",
              "      <th>447451</th>\n",
              "      <td>3148</td>\n",
              "      <td>Q</td>\n",
              "      <td>False</td>\n",
              "      <td>False</td>\n",
              "      <td>False</td>\n",
              "      <td>False</td>\n",
              "      <td>False</td>\n",
              "      <td>False</td>\n",
              "      <td>False</td>\n",
              "      <td>False</td>\n",
              "      <td>False</td>\n",
              "      <td>False</td>\n",
              "      <td>False</td>\n",
              "      <td>False</td>\n",
              "      <td>False</td>\n",
              "      <td>True</td>\n",
              "      <td>False</td>\n",
              "      <td>False</td>\n",
              "      <td>False</td>\n",
              "      <td>False</td>\n",
              "      <td>False</td>\n",
              "      <td>False</td>\n",
              "      <td>NaN</td>\n",
              "      <td>0.0</td>\n",
              "      <td>0.0</td>\n",
              "      <td>0.0</td>\n",
              "      <td>0.0</td>\n",
              "      <td>0.0</td>\n",
              "      <td>0.0</td>\n",
              "      <td>0.0</td>\n",
              "      <td>False</td>\n",
              "      <td>False</td>\n",
              "      <td>False</td>\n",
              "      <td>False</td>\n",
              "      <td>False</td>\n",
              "      <td>False</td>\n",
              "      <td>False</td>\n",
              "      <td>0</td>\n",
              "      <td>0.0</td>\n",
              "      <td>0</td>\n",
              "      <td>0.0</td>\n",
              "      <td>0</td>\n",
              "      <td>0.0</td>\n",
              "      <td>0</td>\n",
              "      <td>0.0</td>\n",
              "      <td>0.0</td>\n",
              "      <td>0.0</td>\n",
              "      <td>0.0</td>\n",
              "      <td>DMD_HUMAN</td>\n",
              "      <td>3148</td>\n",
              "      <td>False</td>\n",
              "    </tr>\n",
              "    <tr>\n",
              "      <th>276565</th>\n",
              "      <td>1585</td>\n",
              "      <td>V</td>\n",
              "      <td>False</td>\n",
              "      <td>False</td>\n",
              "      <td>False</td>\n",
              "      <td>False</td>\n",
              "      <td>False</td>\n",
              "      <td>False</td>\n",
              "      <td>False</td>\n",
              "      <td>False</td>\n",
              "      <td>False</td>\n",
              "      <td>False</td>\n",
              "      <td>False</td>\n",
              "      <td>False</td>\n",
              "      <td>False</td>\n",
              "      <td>False</td>\n",
              "      <td>False</td>\n",
              "      <td>False</td>\n",
              "      <td>False</td>\n",
              "      <td>True</td>\n",
              "      <td>False</td>\n",
              "      <td>False</td>\n",
              "      <td>NaN</td>\n",
              "      <td>0.0</td>\n",
              "      <td>0.0</td>\n",
              "      <td>0.0</td>\n",
              "      <td>0.0</td>\n",
              "      <td>0.0</td>\n",
              "      <td>0.0</td>\n",
              "      <td>0.0</td>\n",
              "      <td>False</td>\n",
              "      <td>False</td>\n",
              "      <td>False</td>\n",
              "      <td>False</td>\n",
              "      <td>False</td>\n",
              "      <td>False</td>\n",
              "      <td>False</td>\n",
              "      <td>0</td>\n",
              "      <td>0.0</td>\n",
              "      <td>0</td>\n",
              "      <td>0.0</td>\n",
              "      <td>0</td>\n",
              "      <td>0.0</td>\n",
              "      <td>0</td>\n",
              "      <td>0.0</td>\n",
              "      <td>0.0</td>\n",
              "      <td>0.0</td>\n",
              "      <td>0.0</td>\n",
              "      <td>HUWE1_HUMAN</td>\n",
              "      <td>1585</td>\n",
              "      <td>False</td>\n",
              "    </tr>\n",
              "    <tr>\n",
              "      <th>447562</th>\n",
              "      <td>3259</td>\n",
              "      <td>E</td>\n",
              "      <td>False</td>\n",
              "      <td>False</td>\n",
              "      <td>False</td>\n",
              "      <td>True</td>\n",
              "      <td>False</td>\n",
              "      <td>False</td>\n",
              "      <td>False</td>\n",
              "      <td>False</td>\n",
              "      <td>False</td>\n",
              "      <td>False</td>\n",
              "      <td>False</td>\n",
              "      <td>False</td>\n",
              "      <td>False</td>\n",
              "      <td>False</td>\n",
              "      <td>False</td>\n",
              "      <td>False</td>\n",
              "      <td>False</td>\n",
              "      <td>False</td>\n",
              "      <td>False</td>\n",
              "      <td>False</td>\n",
              "      <td>NaN</td>\n",
              "      <td>0.0</td>\n",
              "      <td>0.0</td>\n",
              "      <td>0.0</td>\n",
              "      <td>0.0</td>\n",
              "      <td>0.0</td>\n",
              "      <td>0.0</td>\n",
              "      <td>0.0</td>\n",
              "      <td>False</td>\n",
              "      <td>False</td>\n",
              "      <td>False</td>\n",
              "      <td>False</td>\n",
              "      <td>False</td>\n",
              "      <td>False</td>\n",
              "      <td>False</td>\n",
              "      <td>0</td>\n",
              "      <td>0.0</td>\n",
              "      <td>0</td>\n",
              "      <td>0.0</td>\n",
              "      <td>0</td>\n",
              "      <td>0.0</td>\n",
              "      <td>0</td>\n",
              "      <td>0.0</td>\n",
              "      <td>0.0</td>\n",
              "      <td>0.0</td>\n",
              "      <td>0.0</td>\n",
              "      <td>DMD_HUMAN</td>\n",
              "      <td>3259</td>\n",
              "      <td>False</td>\n",
              "    </tr>\n",
              "    <tr>\n",
              "      <th>208896</th>\n",
              "      <td>2034</td>\n",
              "      <td>T</td>\n",
              "      <td>False</td>\n",
              "      <td>False</td>\n",
              "      <td>False</td>\n",
              "      <td>False</td>\n",
              "      <td>False</td>\n",
              "      <td>False</td>\n",
              "      <td>False</td>\n",
              "      <td>False</td>\n",
              "      <td>False</td>\n",
              "      <td>False</td>\n",
              "      <td>False</td>\n",
              "      <td>False</td>\n",
              "      <td>False</td>\n",
              "      <td>False</td>\n",
              "      <td>False</td>\n",
              "      <td>False</td>\n",
              "      <td>True</td>\n",
              "      <td>False</td>\n",
              "      <td>False</td>\n",
              "      <td>False</td>\n",
              "      <td>NaN</td>\n",
              "      <td>0.0</td>\n",
              "      <td>0.0</td>\n",
              "      <td>0.0</td>\n",
              "      <td>0.0</td>\n",
              "      <td>0.0</td>\n",
              "      <td>0.0</td>\n",
              "      <td>0.0</td>\n",
              "      <td>False</td>\n",
              "      <td>False</td>\n",
              "      <td>False</td>\n",
              "      <td>False</td>\n",
              "      <td>False</td>\n",
              "      <td>False</td>\n",
              "      <td>False</td>\n",
              "      <td>0</td>\n",
              "      <td>0.0</td>\n",
              "      <td>0</td>\n",
              "      <td>0.0</td>\n",
              "      <td>0</td>\n",
              "      <td>0.0</td>\n",
              "      <td>0</td>\n",
              "      <td>0.0</td>\n",
              "      <td>0.0</td>\n",
              "      <td>0.0</td>\n",
              "      <td>0.0</td>\n",
              "      <td>MACF1_HUMAN</td>\n",
              "      <td>2034</td>\n",
              "      <td>False</td>\n",
              "    </tr>\n",
              "    <tr>\n",
              "      <th>211423</th>\n",
              "      <td>4561</td>\n",
              "      <td>T</td>\n",
              "      <td>False</td>\n",
              "      <td>False</td>\n",
              "      <td>False</td>\n",
              "      <td>False</td>\n",
              "      <td>False</td>\n",
              "      <td>False</td>\n",
              "      <td>False</td>\n",
              "      <td>False</td>\n",
              "      <td>False</td>\n",
              "      <td>False</td>\n",
              "      <td>False</td>\n",
              "      <td>False</td>\n",
              "      <td>False</td>\n",
              "      <td>False</td>\n",
              "      <td>False</td>\n",
              "      <td>False</td>\n",
              "      <td>True</td>\n",
              "      <td>False</td>\n",
              "      <td>False</td>\n",
              "      <td>False</td>\n",
              "      <td>NaN</td>\n",
              "      <td>0.0</td>\n",
              "      <td>0.0</td>\n",
              "      <td>0.0</td>\n",
              "      <td>0.0</td>\n",
              "      <td>0.0</td>\n",
              "      <td>0.0</td>\n",
              "      <td>0.0</td>\n",
              "      <td>False</td>\n",
              "      <td>False</td>\n",
              "      <td>False</td>\n",
              "      <td>False</td>\n",
              "      <td>False</td>\n",
              "      <td>False</td>\n",
              "      <td>False</td>\n",
              "      <td>0</td>\n",
              "      <td>0.0</td>\n",
              "      <td>0</td>\n",
              "      <td>0.0</td>\n",
              "      <td>0</td>\n",
              "      <td>0.0</td>\n",
              "      <td>0</td>\n",
              "      <td>0.0</td>\n",
              "      <td>0.0</td>\n",
              "      <td>0.0</td>\n",
              "      <td>0.0</td>\n",
              "      <td>MACF1_HUMAN</td>\n",
              "      <td>4561</td>\n",
              "      <td>False</td>\n",
              "    </tr>\n",
              "  </tbody>\n",
              "</table>\n",
              "</div>\n",
              "      <button class=\"colab-df-convert\" onclick=\"convertToInteractive('df-e8b03310-1997-4c06-b308-a459dd603800')\"\n",
              "              title=\"Convert this dataframe to an interactive table.\"\n",
              "              style=\"display:none;\">\n",
              "        \n",
              "  <svg xmlns=\"http://www.w3.org/2000/svg\" height=\"24px\"viewBox=\"0 0 24 24\"\n",
              "       width=\"24px\">\n",
              "    <path d=\"M0 0h24v24H0V0z\" fill=\"none\"/>\n",
              "    <path d=\"M18.56 5.44l.94 2.06.94-2.06 2.06-.94-2.06-.94-.94-2.06-.94 2.06-2.06.94zm-11 1L8.5 8.5l.94-2.06 2.06-.94-2.06-.94L8.5 2.5l-.94 2.06-2.06.94zm10 10l.94 2.06.94-2.06 2.06-.94-2.06-.94-.94-2.06-.94 2.06-2.06.94z\"/><path d=\"M17.41 7.96l-1.37-1.37c-.4-.4-.92-.59-1.43-.59-.52 0-1.04.2-1.43.59L10.3 9.45l-7.72 7.72c-.78.78-.78 2.05 0 2.83L4 21.41c.39.39.9.59 1.41.59.51 0 1.02-.2 1.41-.59l7.78-7.78 2.81-2.81c.8-.78.8-2.07 0-2.86zM5.41 20L4 18.59l7.72-7.72 1.47 1.35L5.41 20z\"/>\n",
              "  </svg>\n",
              "      </button>\n",
              "      \n",
              "  <style>\n",
              "    .colab-df-container {\n",
              "      display:flex;\n",
              "      flex-wrap:wrap;\n",
              "      gap: 12px;\n",
              "    }\n",
              "\n",
              "    .colab-df-convert {\n",
              "      background-color: #E8F0FE;\n",
              "      border: none;\n",
              "      border-radius: 50%;\n",
              "      cursor: pointer;\n",
              "      display: none;\n",
              "      fill: #1967D2;\n",
              "      height: 32px;\n",
              "      padding: 0 0 0 0;\n",
              "      width: 32px;\n",
              "    }\n",
              "\n",
              "    .colab-df-convert:hover {\n",
              "      background-color: #E2EBFA;\n",
              "      box-shadow: 0px 1px 2px rgba(60, 64, 67, 0.3), 0px 1px 3px 1px rgba(60, 64, 67, 0.15);\n",
              "      fill: #174EA6;\n",
              "    }\n",
              "\n",
              "    [theme=dark] .colab-df-convert {\n",
              "      background-color: #3B4455;\n",
              "      fill: #D2E3FC;\n",
              "    }\n",
              "\n",
              "    [theme=dark] .colab-df-convert:hover {\n",
              "      background-color: #434B5C;\n",
              "      box-shadow: 0px 1px 3px 1px rgba(0, 0, 0, 0.15);\n",
              "      filter: drop-shadow(0px 1px 2px rgba(0, 0, 0, 0.3));\n",
              "      fill: #FFFFFF;\n",
              "    }\n",
              "  </style>\n",
              "\n",
              "      <script>\n",
              "        const buttonEl =\n",
              "          document.querySelector('#df-e8b03310-1997-4c06-b308-a459dd603800 button.colab-df-convert');\n",
              "        buttonEl.style.display =\n",
              "          google.colab.kernel.accessAllowed ? 'block' : 'none';\n",
              "\n",
              "        async function convertToInteractive(key) {\n",
              "          const element = document.querySelector('#df-e8b03310-1997-4c06-b308-a459dd603800');\n",
              "          const dataTable =\n",
              "            await google.colab.kernel.invokeFunction('convertToInteractive',\n",
              "                                                     [key], {});\n",
              "          if (!dataTable) return;\n",
              "\n",
              "          const docLinkHtml = 'Like what you see? Visit the ' +\n",
              "            '<a target=\"_blank\" href=https://colab.research.google.com/notebooks/data_table.ipynb>data table notebook</a>'\n",
              "            + ' to learn more about interactive tables.';\n",
              "          element.innerHTML = '';\n",
              "          dataTable['output_type'] = 'display_data';\n",
              "          await google.colab.output.renderOutput(dataTable, element);\n",
              "          const docLink = document.createElement('div');\n",
              "          docLink.innerHTML = docLinkHtml;\n",
              "          element.appendChild(docLink);\n",
              "        }\n",
              "      </script>\n",
              "    </div>\n",
              "  </div>\n",
              "  "
            ]
          },
          "metadata": {},
          "execution_count": 14
        }
      ],
      "source": [
        "train[train['annotation_atomrec'].isna()].sample(5)"
      ]
    },
    {
      "cell_type": "code",
      "execution_count": null,
      "metadata": {
        "colab": {
          "base_uri": "https://localhost:8080/"
        },
        "id": "5yh0gBtnGQsw",
        "outputId": "1d27c8df-a317-4539-d75f-4adbde340cf8"
      },
      "outputs": [
        {
          "output_type": "execute_result",
          "data": {
            "text/plain": [
              "False    467250\n",
              "True      17227\n",
              "Name: y_Ligand, dtype: int64"
            ]
          },
          "metadata": {},
          "execution_count": 15
        }
      ],
      "source": [
        "train.dropna()['y_Ligand'].value_counts()"
      ]
    },
    {
      "cell_type": "code",
      "execution_count": null,
      "metadata": {
        "colab": {
          "base_uri": "https://localhost:8080/"
        },
        "id": "cvcg9Kl6FDp-",
        "outputId": "88d6c63b-9920-4aa4-9efc-218e94f53ed5"
      },
      "outputs": [
        {
          "output_type": "execute_result",
          "data": {
            "text/plain": [
              "True"
            ]
          },
          "metadata": {},
          "execution_count": 16
        }
      ],
      "source": [
        "# Validating that annotation_sequence and annotation_atomrec contain the same data\n",
        "annotation_testing_df = train.dropna()\n",
        "annotation_testing_df['annotation_atomrec'].equals(annotation_testing_df['annotation_sequence'])"
      ]
    },
    {
      "cell_type": "code",
      "execution_count": null,
      "metadata": {
        "id": "ivSXm9AJWM8o"
      },
      "outputs": [],
      "source": [
        "train_cleaned = train.drop(columns=['annotation_atomrec'])"
      ]
    },
    {
      "cell_type": "code",
      "execution_count": null,
      "metadata": {
        "colab": {
          "base_uri": "https://localhost:8080/"
        },
        "id": "sYmzTOp-W-Qi",
        "outputId": "16fb109c-4b3d-4219-caa7-7f2256ee8532"
      },
      "outputs": [
        {
          "output_type": "execute_result",
          "data": {
            "text/plain": [
              "(497166, 50)"
            ]
          },
          "metadata": {},
          "execution_count": 18
        }
      ],
      "source": [
        "train_cleaned.shape"
      ]
    },
    {
      "cell_type": "markdown",
      "metadata": {
        "id": "oGxcLGfWVaKA"
      },
      "source": [
        "## 2. Exploratory Analysis"
      ]
    },
    {
      "cell_type": "code",
      "execution_count": null,
      "metadata": {
        "colab": {
          "base_uri": "https://localhost:8080/",
          "height": 382
        },
        "id": "D4HSjLKpVYIl",
        "outputId": "799cc822-44fa-4784-9bb9-bff6fc6c10d7"
      },
      "outputs": [
        {
          "output_type": "execute_result",
          "data": {
            "text/plain": [
              "          Unnamed: 0       feat_PHI       feat_PSI       feat_TAU  \\\n",
              "count  497166.000000  497166.000000  497166.000000  497166.000000   \n",
              "mean      535.495128      -1.162007       0.780075      -0.108342   \n",
              "std       665.740408       1.039634       1.520499       1.833996   \n",
              "min         0.000000      -3.141557      -3.141564      -3.141578   \n",
              "25%       172.000000      -1.686451      -0.654101      -2.067246   \n",
              "50%       365.000000      -1.199133       0.241335       0.775206   \n",
              "75%       667.000000      -1.047934       2.297116       0.966645   \n",
              "max      7384.000000       3.141575       3.141584       3.141568   \n",
              "\n",
              "          feat_THETA    feat_BBSASA   feat_SCSASA     feat_pLDDT  \\\n",
              "count  497166.000000  497166.000000  4.971660e+05  497166.000000   \n",
              "mean        1.854782      16.746550  5.209644e+01      75.733749   \n",
              "std         0.469940      18.494097  4.792873e+01      26.971019   \n",
              "min         0.000000       0.000000 -2.842171e-14       0.000000   \n",
              "25%         1.590771       1.239801  5.274057e+00      55.360000   \n",
              "50%         1.756220       8.788650  4.352778e+01      89.530000   \n",
              "75%         2.122055      29.958422  8.623462e+01      95.960000   \n",
              "max         3.137176      99.338342  2.200520e+02      98.980000   \n",
              "\n",
              "         feat_DSSP_6    feat_DSSP_7    feat_DSSP_8    feat_DSSP_9  \\\n",
              "count  497166.000000  497166.000000  497166.000000  497166.000000   \n",
              "mean       -1.789849      -1.160675       1.754382      -1.140480   \n",
              "std        58.176800       1.058466      60.429611       1.062049   \n",
              "min     -2281.000000      -4.000000   -2281.000000      -4.000000   \n",
              "25%        -4.000000      -2.200000      -1.000000      -2.200000   \n",
              "50%        -2.000000      -0.700000       2.000000      -0.600000   \n",
              "75%         0.000000      -0.200000       4.000000      -0.200000   \n",
              "max      2281.000000       0.000000    2281.000000      -0.000000   \n",
              "\n",
              "        feat_DSSP_10   feat_DSSP_11   feat_DSSP_12   feat_DSSP_13  \\\n",
              "count  497166.000000  497166.000000  497166.000000  497166.000000   \n",
              "mean       -0.053135      -0.177757       0.128386      -0.201625   \n",
              "std        57.906105       0.156652      61.219479       0.232904   \n",
              "min     -2280.000000      -1.800000   -2281.000000      -2.900000   \n",
              "25%        -2.000000      -0.200000      -2.000000      -0.200000   \n",
              "50%         1.000000      -0.200000      -1.000000      -0.200000   \n",
              "75%         2.000000      -0.100000       2.000000      -0.100000   \n",
              "max      2281.000000       0.000000    2282.000000      -0.000000   \n",
              "\n",
              "             coord_X        coord_Y        coord_Z    entry_index  \n",
              "count  497166.000000  497166.000000  497166.000000  497166.000000  \n",
              "mean       -3.927826       1.956133      -1.099622     535.495128  \n",
              "std        25.770530      20.641283      26.637590     665.740408  \n",
              "min      -149.393997    -114.931000    -152.839005       0.000000  \n",
              "25%       -18.850000      -9.518750     -16.964001     172.000000  \n",
              "50%        -2.881000       1.206000      -0.681000     365.000000  \n",
              "75%        11.469000      13.148000      14.147000     667.000000  \n",
              "max       162.250000     103.135002     176.059998    7384.000000  "
            ],
            "text/html": [
              "\n",
              "  <div id=\"df-eb37cdc6-ba8e-44d6-9e4d-8802ea5d9bee\">\n",
              "    <div class=\"colab-df-container\">\n",
              "      <div>\n",
              "<style scoped>\n",
              "    .dataframe tbody tr th:only-of-type {\n",
              "        vertical-align: middle;\n",
              "    }\n",
              "\n",
              "    .dataframe tbody tr th {\n",
              "        vertical-align: top;\n",
              "    }\n",
              "\n",
              "    .dataframe thead th {\n",
              "        text-align: right;\n",
              "    }\n",
              "</style>\n",
              "<table border=\"1\" class=\"dataframe\">\n",
              "  <thead>\n",
              "    <tr style=\"text-align: right;\">\n",
              "      <th></th>\n",
              "      <th>Unnamed: 0</th>\n",
              "      <th>feat_PHI</th>\n",
              "      <th>feat_PSI</th>\n",
              "      <th>feat_TAU</th>\n",
              "      <th>feat_THETA</th>\n",
              "      <th>feat_BBSASA</th>\n",
              "      <th>feat_SCSASA</th>\n",
              "      <th>feat_pLDDT</th>\n",
              "      <th>feat_DSSP_6</th>\n",
              "      <th>feat_DSSP_7</th>\n",
              "      <th>feat_DSSP_8</th>\n",
              "      <th>feat_DSSP_9</th>\n",
              "      <th>feat_DSSP_10</th>\n",
              "      <th>feat_DSSP_11</th>\n",
              "      <th>feat_DSSP_12</th>\n",
              "      <th>feat_DSSP_13</th>\n",
              "      <th>coord_X</th>\n",
              "      <th>coord_Y</th>\n",
              "      <th>coord_Z</th>\n",
              "      <th>entry_index</th>\n",
              "    </tr>\n",
              "  </thead>\n",
              "  <tbody>\n",
              "    <tr>\n",
              "      <th>count</th>\n",
              "      <td>497166.000000</td>\n",
              "      <td>497166.000000</td>\n",
              "      <td>497166.000000</td>\n",
              "      <td>497166.000000</td>\n",
              "      <td>497166.000000</td>\n",
              "      <td>497166.000000</td>\n",
              "      <td>4.971660e+05</td>\n",
              "      <td>497166.000000</td>\n",
              "      <td>497166.000000</td>\n",
              "      <td>497166.000000</td>\n",
              "      <td>497166.000000</td>\n",
              "      <td>497166.000000</td>\n",
              "      <td>497166.000000</td>\n",
              "      <td>497166.000000</td>\n",
              "      <td>497166.000000</td>\n",
              "      <td>497166.000000</td>\n",
              "      <td>497166.000000</td>\n",
              "      <td>497166.000000</td>\n",
              "      <td>497166.000000</td>\n",
              "      <td>497166.000000</td>\n",
              "    </tr>\n",
              "    <tr>\n",
              "      <th>mean</th>\n",
              "      <td>535.495128</td>\n",
              "      <td>-1.162007</td>\n",
              "      <td>0.780075</td>\n",
              "      <td>-0.108342</td>\n",
              "      <td>1.854782</td>\n",
              "      <td>16.746550</td>\n",
              "      <td>5.209644e+01</td>\n",
              "      <td>75.733749</td>\n",
              "      <td>-1.789849</td>\n",
              "      <td>-1.160675</td>\n",
              "      <td>1.754382</td>\n",
              "      <td>-1.140480</td>\n",
              "      <td>-0.053135</td>\n",
              "      <td>-0.177757</td>\n",
              "      <td>0.128386</td>\n",
              "      <td>-0.201625</td>\n",
              "      <td>-3.927826</td>\n",
              "      <td>1.956133</td>\n",
              "      <td>-1.099622</td>\n",
              "      <td>535.495128</td>\n",
              "    </tr>\n",
              "    <tr>\n",
              "      <th>std</th>\n",
              "      <td>665.740408</td>\n",
              "      <td>1.039634</td>\n",
              "      <td>1.520499</td>\n",
              "      <td>1.833996</td>\n",
              "      <td>0.469940</td>\n",
              "      <td>18.494097</td>\n",
              "      <td>4.792873e+01</td>\n",
              "      <td>26.971019</td>\n",
              "      <td>58.176800</td>\n",
              "      <td>1.058466</td>\n",
              "      <td>60.429611</td>\n",
              "      <td>1.062049</td>\n",
              "      <td>57.906105</td>\n",
              "      <td>0.156652</td>\n",
              "      <td>61.219479</td>\n",
              "      <td>0.232904</td>\n",
              "      <td>25.770530</td>\n",
              "      <td>20.641283</td>\n",
              "      <td>26.637590</td>\n",
              "      <td>665.740408</td>\n",
              "    </tr>\n",
              "    <tr>\n",
              "      <th>min</th>\n",
              "      <td>0.000000</td>\n",
              "      <td>-3.141557</td>\n",
              "      <td>-3.141564</td>\n",
              "      <td>-3.141578</td>\n",
              "      <td>0.000000</td>\n",
              "      <td>0.000000</td>\n",
              "      <td>-2.842171e-14</td>\n",
              "      <td>0.000000</td>\n",
              "      <td>-2281.000000</td>\n",
              "      <td>-4.000000</td>\n",
              "      <td>-2281.000000</td>\n",
              "      <td>-4.000000</td>\n",
              "      <td>-2280.000000</td>\n",
              "      <td>-1.800000</td>\n",
              "      <td>-2281.000000</td>\n",
              "      <td>-2.900000</td>\n",
              "      <td>-149.393997</td>\n",
              "      <td>-114.931000</td>\n",
              "      <td>-152.839005</td>\n",
              "      <td>0.000000</td>\n",
              "    </tr>\n",
              "    <tr>\n",
              "      <th>25%</th>\n",
              "      <td>172.000000</td>\n",
              "      <td>-1.686451</td>\n",
              "      <td>-0.654101</td>\n",
              "      <td>-2.067246</td>\n",
              "      <td>1.590771</td>\n",
              "      <td>1.239801</td>\n",
              "      <td>5.274057e+00</td>\n",
              "      <td>55.360000</td>\n",
              "      <td>-4.000000</td>\n",
              "      <td>-2.200000</td>\n",
              "      <td>-1.000000</td>\n",
              "      <td>-2.200000</td>\n",
              "      <td>-2.000000</td>\n",
              "      <td>-0.200000</td>\n",
              "      <td>-2.000000</td>\n",
              "      <td>-0.200000</td>\n",
              "      <td>-18.850000</td>\n",
              "      <td>-9.518750</td>\n",
              "      <td>-16.964001</td>\n",
              "      <td>172.000000</td>\n",
              "    </tr>\n",
              "    <tr>\n",
              "      <th>50%</th>\n",
              "      <td>365.000000</td>\n",
              "      <td>-1.199133</td>\n",
              "      <td>0.241335</td>\n",
              "      <td>0.775206</td>\n",
              "      <td>1.756220</td>\n",
              "      <td>8.788650</td>\n",
              "      <td>4.352778e+01</td>\n",
              "      <td>89.530000</td>\n",
              "      <td>-2.000000</td>\n",
              "      <td>-0.700000</td>\n",
              "      <td>2.000000</td>\n",
              "      <td>-0.600000</td>\n",
              "      <td>1.000000</td>\n",
              "      <td>-0.200000</td>\n",
              "      <td>-1.000000</td>\n",
              "      <td>-0.200000</td>\n",
              "      <td>-2.881000</td>\n",
              "      <td>1.206000</td>\n",
              "      <td>-0.681000</td>\n",
              "      <td>365.000000</td>\n",
              "    </tr>\n",
              "    <tr>\n",
              "      <th>75%</th>\n",
              "      <td>667.000000</td>\n",
              "      <td>-1.047934</td>\n",
              "      <td>2.297116</td>\n",
              "      <td>0.966645</td>\n",
              "      <td>2.122055</td>\n",
              "      <td>29.958422</td>\n",
              "      <td>8.623462e+01</td>\n",
              "      <td>95.960000</td>\n",
              "      <td>0.000000</td>\n",
              "      <td>-0.200000</td>\n",
              "      <td>4.000000</td>\n",
              "      <td>-0.200000</td>\n",
              "      <td>2.000000</td>\n",
              "      <td>-0.100000</td>\n",
              "      <td>2.000000</td>\n",
              "      <td>-0.100000</td>\n",
              "      <td>11.469000</td>\n",
              "      <td>13.148000</td>\n",
              "      <td>14.147000</td>\n",
              "      <td>667.000000</td>\n",
              "    </tr>\n",
              "    <tr>\n",
              "      <th>max</th>\n",
              "      <td>7384.000000</td>\n",
              "      <td>3.141575</td>\n",
              "      <td>3.141584</td>\n",
              "      <td>3.141568</td>\n",
              "      <td>3.137176</td>\n",
              "      <td>99.338342</td>\n",
              "      <td>2.200520e+02</td>\n",
              "      <td>98.980000</td>\n",
              "      <td>2281.000000</td>\n",
              "      <td>0.000000</td>\n",
              "      <td>2281.000000</td>\n",
              "      <td>-0.000000</td>\n",
              "      <td>2281.000000</td>\n",
              "      <td>0.000000</td>\n",
              "      <td>2282.000000</td>\n",
              "      <td>-0.000000</td>\n",
              "      <td>162.250000</td>\n",
              "      <td>103.135002</td>\n",
              "      <td>176.059998</td>\n",
              "      <td>7384.000000</td>\n",
              "    </tr>\n",
              "  </tbody>\n",
              "</table>\n",
              "</div>\n",
              "      <button class=\"colab-df-convert\" onclick=\"convertToInteractive('df-eb37cdc6-ba8e-44d6-9e4d-8802ea5d9bee')\"\n",
              "              title=\"Convert this dataframe to an interactive table.\"\n",
              "              style=\"display:none;\">\n",
              "        \n",
              "  <svg xmlns=\"http://www.w3.org/2000/svg\" height=\"24px\"viewBox=\"0 0 24 24\"\n",
              "       width=\"24px\">\n",
              "    <path d=\"M0 0h24v24H0V0z\" fill=\"none\"/>\n",
              "    <path d=\"M18.56 5.44l.94 2.06.94-2.06 2.06-.94-2.06-.94-.94-2.06-.94 2.06-2.06.94zm-11 1L8.5 8.5l.94-2.06 2.06-.94-2.06-.94L8.5 2.5l-.94 2.06-2.06.94zm10 10l.94 2.06.94-2.06 2.06-.94-2.06-.94-.94-2.06-.94 2.06-2.06.94z\"/><path d=\"M17.41 7.96l-1.37-1.37c-.4-.4-.92-.59-1.43-.59-.52 0-1.04.2-1.43.59L10.3 9.45l-7.72 7.72c-.78.78-.78 2.05 0 2.83L4 21.41c.39.39.9.59 1.41.59.51 0 1.02-.2 1.41-.59l7.78-7.78 2.81-2.81c.8-.78.8-2.07 0-2.86zM5.41 20L4 18.59l7.72-7.72 1.47 1.35L5.41 20z\"/>\n",
              "  </svg>\n",
              "      </button>\n",
              "      \n",
              "  <style>\n",
              "    .colab-df-container {\n",
              "      display:flex;\n",
              "      flex-wrap:wrap;\n",
              "      gap: 12px;\n",
              "    }\n",
              "\n",
              "    .colab-df-convert {\n",
              "      background-color: #E8F0FE;\n",
              "      border: none;\n",
              "      border-radius: 50%;\n",
              "      cursor: pointer;\n",
              "      display: none;\n",
              "      fill: #1967D2;\n",
              "      height: 32px;\n",
              "      padding: 0 0 0 0;\n",
              "      width: 32px;\n",
              "    }\n",
              "\n",
              "    .colab-df-convert:hover {\n",
              "      background-color: #E2EBFA;\n",
              "      box-shadow: 0px 1px 2px rgba(60, 64, 67, 0.3), 0px 1px 3px 1px rgba(60, 64, 67, 0.15);\n",
              "      fill: #174EA6;\n",
              "    }\n",
              "\n",
              "    [theme=dark] .colab-df-convert {\n",
              "      background-color: #3B4455;\n",
              "      fill: #D2E3FC;\n",
              "    }\n",
              "\n",
              "    [theme=dark] .colab-df-convert:hover {\n",
              "      background-color: #434B5C;\n",
              "      box-shadow: 0px 1px 3px 1px rgba(0, 0, 0, 0.15);\n",
              "      filter: drop-shadow(0px 1px 2px rgba(0, 0, 0, 0.3));\n",
              "      fill: #FFFFFF;\n",
              "    }\n",
              "  </style>\n",
              "\n",
              "      <script>\n",
              "        const buttonEl =\n",
              "          document.querySelector('#df-eb37cdc6-ba8e-44d6-9e4d-8802ea5d9bee button.colab-df-convert');\n",
              "        buttonEl.style.display =\n",
              "          google.colab.kernel.accessAllowed ? 'block' : 'none';\n",
              "\n",
              "        async function convertToInteractive(key) {\n",
              "          const element = document.querySelector('#df-eb37cdc6-ba8e-44d6-9e4d-8802ea5d9bee');\n",
              "          const dataTable =\n",
              "            await google.colab.kernel.invokeFunction('convertToInteractive',\n",
              "                                                     [key], {});\n",
              "          if (!dataTable) return;\n",
              "\n",
              "          const docLinkHtml = 'Like what you see? Visit the ' +\n",
              "            '<a target=\"_blank\" href=https://colab.research.google.com/notebooks/data_table.ipynb>data table notebook</a>'\n",
              "            + ' to learn more about interactive tables.';\n",
              "          element.innerHTML = '';\n",
              "          dataTable['output_type'] = 'display_data';\n",
              "          await google.colab.output.renderOutput(dataTable, element);\n",
              "          const docLink = document.createElement('div');\n",
              "          docLink.innerHTML = docLinkHtml;\n",
              "          element.appendChild(docLink);\n",
              "        }\n",
              "      </script>\n",
              "    </div>\n",
              "  </div>\n",
              "  "
            ]
          },
          "metadata": {},
          "execution_count": 19
        }
      ],
      "source": [
        "train_cleaned.describe()"
      ]
    },
    {
      "cell_type": "code",
      "execution_count": null,
      "metadata": {
        "colab": {
          "base_uri": "https://localhost:8080/",
          "height": 285
        },
        "id": "tTnx3S4UVYCx",
        "outputId": "e8ff2813-ef77-4fc6-cffd-99f181a80dcc"
      },
      "outputs": [
        {
          "output_type": "execute_result",
          "data": {
            "text/plain": [
              "<AxesSubplot:>"
            ]
          },
          "metadata": {},
          "execution_count": 20
        },
        {
          "output_type": "display_data",
          "data": {
            "text/plain": [
              "<Figure size 432x288 with 1 Axes>"
            ],
            "image/png": "[encoded data removed]"
          },
          "metadata": {}
        }
      ],
      "source": [
        "train_cleaned.boxplot(column=['feat_PHI', 'feat_PSI', 'feat_TAU'], grid=False, color='black', vert=False)"
      ]
    },
    {
      "cell_type": "code",
      "execution_count": null,
      "metadata": {
        "colab": {
          "base_uri": "https://localhost:8080/"
        },
        "id": "yL5iV8G7oDoL",
        "outputId": "97c1aa23-af97-4e6c-f8ed-456011495cc8"
      },
      "outputs": [
        {
          "output_type": "stream",
          "name": "stdout",
          "text": [
            "Skewness:\n"
          ]
        },
        {
          "output_type": "execute_result",
          "data": {
            "text/plain": [
              "feat_PHI       1.541639\n",
              "feat_PSI      -0.073942\n",
              "feat_TAU      -0.214970\n",
              "feat_THETA    -0.930561\n",
              "feat_BBSASA    1.109624\n",
              "feat_SCSASA    0.713635\n",
              "dtype: float64"
            ]
          },
          "metadata": {},
          "execution_count": 21
        }
      ],
      "source": [
        "# Analyzing Skewness and Kurtosis across interval columns\n",
        "print(\"Skewness:\", end='\\n')\n",
        "train_cleaned[['feat_PHI', 'feat_PSI', 'feat_TAU', 'feat_THETA', 'feat_BBSASA', 'feat_SCSASA']].skew(axis=0)"
      ]
    },
    {
      "cell_type": "code",
      "execution_count": null,
      "metadata": {
        "colab": {
          "base_uri": "https://localhost:8080/"
        },
        "id": "vCDjpTVr3DNQ",
        "outputId": "f8a1875a-aba8-4feb-95d5-f1df514a1d79"
      },
      "outputs": [
        {
          "output_type": "stream",
          "name": "stdout",
          "text": [
            "Kurtosis:\n"
          ]
        },
        {
          "output_type": "execute_result",
          "data": {
            "text/plain": [
              "feat_PHI       3.238840\n",
              "feat_PSI      -1.298471\n",
              "feat_TAU      -1.234352\n",
              "feat_THETA     4.553022\n",
              "feat_BBSASA    0.502942\n",
              "feat_SCSASA   -0.331014\n",
              "dtype: float64"
            ]
          },
          "metadata": {},
          "execution_count": 22
        }
      ],
      "source": [
        "print(\"Kurtosis:\", end='\\n')\n",
        "train_cleaned[['feat_PHI', 'feat_PSI', 'feat_TAU', 'feat_THETA', 'feat_BBSASA', 'feat_SCSASA']].kurt(axis=0)"
      ]
    },
    {
      "cell_type": "code",
      "execution_count": null,
      "metadata": {
        "colab": {
          "base_uri": "https://localhost:8080/",
          "height": 285
        },
        "id": "oIeD_6sWTqGd",
        "outputId": "6b7cd5d5-e351-4ca5-c6aa-95d482d3185f"
      },
      "outputs": [
        {
          "output_type": "execute_result",
          "data": {
            "text/plain": [
              "<AxesSubplot:ylabel='Frequency'>"
            ]
          },
          "metadata": {},
          "execution_count": 23
        },
        {
          "output_type": "display_data",
          "data": {
            "text/plain": [
              "<Figure size 432x288 with 1 Axes>"
            ],
            "image/png": "[encoded data removed]"
          },
          "metadata": {}
        }
      ],
      "source": [
        "train_cleaned[train_cleaned['feat_PHI'] <= 0]['feat_PHI'].plot.hist()\n",
        "train_cleaned[train_cleaned['feat_PHI'] >= 0]['feat_PHI'].plot.hist()"
      ]
    },
    {
      "cell_type": "code",
      "execution_count": null,
      "metadata": {
        "colab": {
          "base_uri": "https://localhost:8080/",
          "height": 285
        },
        "id": "fXjsUTIkVX_2",
        "outputId": "cd606aa8-d510-4dc2-ab2a-6f9bd6693ddf"
      },
      "outputs": [
        {
          "output_type": "execute_result",
          "data": {
            "text/plain": [
              "<AxesSubplot:>"
            ]
          },
          "metadata": {},
          "execution_count": 24
        },
        {
          "output_type": "display_data",
          "data": {
            "text/plain": [
              "<Figure size 432x288 with 1 Axes>"
            ],
            "image/png": "[encoded data removed]"
          },
          "metadata": {}
        }
      ],
      "source": [
        "train_cleaned.boxplot(column='feat_THETA', grid=False, color='black', vert=False)"
      ]
    },
    {
      "cell_type": "code",
      "execution_count": null,
      "metadata": {
        "colab": {
          "base_uri": "https://localhost:8080/"
        },
        "id": "DxHm-ujYVX9L",
        "outputId": "075ea4d0-7481-41ff-bf97-b857e38617a4"
      },
      "outputs": [
        {
          "output_type": "execute_result",
          "data": {
            "text/plain": [
              "12689"
            ]
          },
          "metadata": {},
          "execution_count": 25
        }
      ],
      "source": [
        "train_cleaned['feat_THETA'][train_cleaned['feat_THETA'] == 0].count()"
      ]
    },
    {
      "cell_type": "code",
      "execution_count": null,
      "metadata": {
        "colab": {
          "base_uri": "https://localhost:8080/",
          "height": 285
        },
        "id": "i7HgItg0VX5H",
        "outputId": "480cc221-5a50-479d-ed0e-82042d956ff6"
      },
      "outputs": [
        {
          "output_type": "execute_result",
          "data": {
            "text/plain": [
              "<AxesSubplot:>"
            ]
          },
          "metadata": {},
          "execution_count": 26
        },
        {
          "output_type": "display_data",
          "data": {
            "text/plain": [
              "<Figure size 432x288 with 1 Axes>"
            ],
            "image/png": "[encoded data removed]"
          },
          "metadata": {}
        }
      ],
      "source": [
        "train_cleaned.boxplot(column='feat_BBSASA', grid=False, color='black', vert=False)"
      ]
    },
    {
      "cell_type": "code",
      "execution_count": null,
      "metadata": {
        "colab": {
          "base_uri": "https://localhost:8080/",
          "height": 285
        },
        "id": "1uZmcCL6bZGR",
        "outputId": "5702d480-7cf0-4194-fc9c-3740a76b20c2"
      },
      "outputs": [
        {
          "output_type": "execute_result",
          "data": {
            "text/plain": [
              "<AxesSubplot:>"
            ]
          },
          "metadata": {},
          "execution_count": 27
        },
        {
          "output_type": "display_data",
          "data": {
            "text/plain": [
              "<Figure size 432x288 with 1 Axes>"
            ],
            "image/png": "[encoded data removed]"
          },
          "metadata": {}
        }
      ],
      "source": [
        "train_cleaned.boxplot(column='feat_SCSASA', grid=False, color='black', vert=False)"
      ]
    },
    {
      "cell_type": "code",
      "execution_count": null,
      "metadata": {
        "colab": {
          "base_uri": "https://localhost:8080/"
        },
        "id": "Cf_OzWJYVXoK",
        "outputId": "bf798cb6-6ae6-4cbc-a202-85a2bb6cd535"
      },
      "outputs": [
        {
          "output_type": "execute_result",
          "data": {
            "text/plain": [
              "12689"
            ]
          },
          "metadata": {},
          "execution_count": 28
        }
      ],
      "source": [
        "train_cleaned['feat_SCSASA'][train_cleaned['feat_THETA'] <= 0].count()"
      ]
    },
    {
      "cell_type": "code",
      "execution_count": null,
      "metadata": {
        "colab": {
          "base_uri": "https://localhost:8080/",
          "height": 285
        },
        "id": "A4KzGOxjcKIt",
        "outputId": "bcfb6c4a-ca69-42cc-9858-f148f4d0db27"
      },
      "outputs": [
        {
          "output_type": "execute_result",
          "data": {
            "text/plain": [
              "<AxesSubplot:>"
            ]
          },
          "metadata": {},
          "execution_count": 29
        },
        {
          "output_type": "display_data",
          "data": {
            "text/plain": [
              "<Figure size 432x288 with 1 Axes>"
            ],
            "image/png": "[encoded data removed]"
          },
          "metadata": {}
        }
      ],
      "source": [
        "train_cleaned.boxplot(column=['feat_PHI', 'feat_PSI', 'feat_TAU'], grid=False, color='black', vert=False)"
      ]
    },
    {
      "cell_type": "code",
      "execution_count": null,
      "metadata": {
        "colab": {
          "base_uri": "https://localhost:8080/",
          "height": 302
        },
        "id": "mG5HHE6fcJvV",
        "outputId": "1cf18c9d-279e-4c44-f388-e34db7ef897e"
      },
      "outputs": [
        {
          "output_type": "execute_result",
          "data": {
            "text/plain": [
              "<AxesSubplot:xlabel='feat_BBSASA', ylabel='Density'>"
            ]
          },
          "metadata": {},
          "execution_count": 30
        },
        {
          "output_type": "display_data",
          "data": {
            "text/plain": [
              "<Figure size 432x288 with 1 Axes>"
            ],
            "image/png": "[encoded data removed]"
          },
          "metadata": {}
        }
      ],
      "source": [
        "sns.kdeplot(train_cleaned['feat_BBSASA'])"
      ]
    },
    {
      "cell_type": "code",
      "execution_count": null,
      "metadata": {
        "colab": {
          "base_uri": "https://localhost:8080/",
          "height": 302
        },
        "id": "3uYL7nwZcJpc",
        "outputId": "142afd35-f561-4b4b-fb64-730678a82600"
      },
      "outputs": [
        {
          "output_type": "execute_result",
          "data": {
            "text/plain": [
              "<AxesSubplot:xlabel='feat_SCSASA', ylabel='Density'>"
            ]
          },
          "metadata": {},
          "execution_count": 31
        },
        {
          "output_type": "display_data",
          "data": {
            "text/plain": [
              "<Figure size 432x288 with 1 Axes>"
            ],
            "image/png": "[encoded data removed]"
          },
          "metadata": {}
        }
      ],
      "source": [
        "sns.kdeplot(train_cleaned['feat_SCSASA'])"
      ]
    },
    {
      "cell_type": "code",
      "execution_count": null,
      "metadata": {
        "colab": {
          "base_uri": "https://localhost:8080/",
          "height": 302
        },
        "id": "nTclBSq1cJlm",
        "outputId": "eba4907d-a60c-4a45-f01c-6a4ca97700c1"
      },
      "outputs": [
        {
          "output_type": "execute_result",
          "data": {
            "text/plain": [
              "<AxesSubplot:xlabel='feat_DSSP_6', ylabel='Density'>"
            ]
          },
          "metadata": {},
          "execution_count": 32
        },
        {
          "output_type": "display_data",
          "data": {
            "text/plain": [
              "<Figure size 432x288 with 1 Axes>"
            ],
            "image/png": "[encoded data removed]"
          },
          "metadata": {}
        }
      ],
      "source": [
        "sns.kdeplot(train_cleaned['feat_DSSP_6'])"
      ]
    },
    {
      "cell_type": "code",
      "execution_count": null,
      "metadata": {
        "id": "aTWCGR3JcJhS"
      },
      "outputs": [],
      "source": []
    },
    {
      "cell_type": "code",
      "execution_count": null,
      "metadata": {
        "id": "lLhP_DE5cJTu"
      },
      "outputs": [],
      "source": []
    },
    {
      "cell_type": "markdown",
      "metadata": {
        "id": "keTnypIjRSzs"
      },
      "source": [
        "## 3. Feature Engineering"
      ]
    },
    {
      "cell_type": "code",
      "execution_count": null,
      "metadata": {
        "id": "6j3dQQ8dQ6l9"
      },
      "outputs": [],
      "source": [
        "# Possible Approaches for selection process:\n",
        "from sklearn.feature_selection import RFECV\n",
        "from sklearn.model_selection import StratifiedKFold"
      ]
    },
    {
      "cell_type": "markdown",
      "metadata": {
        "id": "gRbFYzVkQ7Da"
      },
      "source": [
        "## 4. Model Selection, Training, and Evaluation"
      ]
    },
    {
      "cell_type": "code",
      "execution_count": null,
      "metadata": {
        "id": "9LGSLrzLYGne"
      },
      "outputs": [],
      "source": [
        "from sklearn.model_selection import train_test_split\n",
        "\n",
        "X_train, X_test, y_train, y_test = train_test_split(train_cleaned.drop([\"y_Ligand\"], axis=1), train_cleaned[\"y_Ligand\"], test_size=0.2, random_state=42)"
      ]
    },
    {
      "cell_type": "code",
      "execution_count": null,
      "metadata": {
        "id": "X2Rp8uItcvZI"
      },
      "outputs": [],
      "source": [
        "# Try Shuffling test-train data if needed"
      ]
    },
    {
      "cell_type": "code",
      "execution_count": null,
      "metadata": {
        "id": "ZYGAnpwUbi0n"
      },
      "outputs": [],
      "source": [
        "without_categorical_columns = [col for col in X_train.columns if X_train[col].dtype != \"O\"]"
      ]
    },
    {
      "cell_type": "code",
      "execution_count": null,
      "metadata": {
        "id": "ijT0Cu31W_Sy"
      },
      "outputs": [],
      "source": [
        "# Test scaling on continuous numerical columns (excluding categorical and ID columns)\n",
        "from sklearn.preprocessing import MinMaxScaler\n",
        "from sklearn.preprocessing import StandardScaler\n",
        "\n",
        "scaler = MinMaxScaler(feature_range=[-1, 1])\n",
        "# scaler.fit(X_train)\n",
        "# X_train = scaler.transform(X_train)"
      ]
    },
    {
      "cell_type": "code",
      "execution_count": null,
      "metadata": {
        "id": "3LzivGlgYIDX"
      },
      "outputs": [],
      "source": [
        "# Initializing models for selection, training, and evaluation loop\n",
        "# Credits to Jason Brownlee from ML Mastery for this part of the code\n",
        "# Source: https://machinelearningmastery.com/compare-machine-learning-algorithms-python-scikit-learn/\n",
        "from sklearn import model_selection\n",
        "from sklearn.linear_model import LogisticRegression\n",
        "from sklearn.tree import DecisionTreeClassifier\n",
        "from sklearn.neighbors import KNeighborsClassifier\n",
        "from sklearn.discriminant_analysis import LinearDiscriminantAnalysis\n",
        "from sklearn.naive_bayes import GaussianNB\n",
        "from sklearn.svm import SVC\n",
        "from sklearn.ensemble import BaggingClassifier, AdaBoostClassifier\n",
        "from xgboost import XGBClassifier\n",
        "\n",
        "models = []\n",
        "\n",
        "models.append(('XGB', XGBClassifier(tree_method='gpu_hist')))\n",
        "models.append(('ADA', AdaBoostClassifier()))\n",
        "# models.append(('LR', LogisticRegression(solver='saga', max_iter=1000)))\n",
        "models.append(('LDA', LinearDiscriminantAnalysis()))\n",
        "# models.append(('KNN', KNeighborsClassifier()))\n",
        "# models.append(('CART', DecisionTreeClassifier()))\n",
        "models.append(('NB', GaussianNB()))\n",
        "# models.append(('SVM', SVC()))\n",
        "models.append(('BG', BaggingClassifier()))"
      ]
    },
    {
      "cell_type": "code",
      "execution_count": null,
      "metadata": {
        "id": "6RR9PUMCMKaF"
      },
      "outputs": [],
      "source": [
        "from sklearn.metrics import SCORERS\n",
        "sorted(SCORERS.keys())"
      ]
    },
    {
      "cell_type": "code",
      "execution_count": null,
      "metadata": {
        "colab": {
          "base_uri": "https://localhost:8080/"
        },
        "id": "-8FmJyIXIIr_",
        "outputId": "3e768740-796d-4438-844c-fa75f7bdcf15"
      },
      "outputs": [
        {
          "output_type": "stream",
          "name": "stdout",
          "text": [
            "XGB: 0.842499 (0.004429)\n",
            "ADA: 0.819739 (0.004774)\n",
            "LDA: 0.746967 (0.004277)\n",
            "NB: 0.737317 (0.003152)\n",
            "BG: 0.767900 (0.005206)\n"
          ]
        }
      ],
      "source": [
        "seed = 7 # Configuration for cross validation test harness\n",
        "results = []\n",
        "names = []\n",
        "scoring = 'roc_auc'\n",
        "for name, model in models:\n",
        "    kfold = model_selection.KFold(n_splits=10) # , random_state=seed\n",
        "    cv_results = model_selection.cross_val_score(\n",
        "        model, \n",
        "        X_train[without_categorical_columns], \n",
        "        y_train,\n",
        "        cv=kfold, \n",
        "        scoring=scoring\n",
        "    )\n",
        "    results.append(cv_results)\n",
        "    names.append(name)\n",
        "    msg = \"%s: %f (%f)\" % (name, cv_results.mean(), cv_results.std())\n",
        "    print(msg)"
      ]
    },
    {
      "cell_type": "code",
      "execution_count": null,
      "metadata": {
        "id": "xiYP-_XOgBBw",
        "colab": {
          "base_uri": "https://localhost:8080/",
          "height": 297
        },
        "outputId": "b73b8df6-87be-4339-b261-208b5313447f"
      },
      "outputs": [
        {
          "output_type": "display_data",
          "data": {
            "text/plain": [
              "<Figure size 432x288 with 1 Axes>"
            ],
            "image/png": "[encoded data removed]"
          },
          "metadata": {}
        }
      ],
      "source": [
        "# Boxplot algorithm comparison\n",
        "fig = plt.figure()\n",
        "fig.suptitle('Algorithm Comparison')\n",
        "ax = fig.add_subplot(111)\n",
        "plt.boxplot(results)\n",
        "ax.set_xticklabels(names)\n",
        "plt.show()"
      ]
    },
    {
      "cell_type": "code",
      "execution_count": null,
      "metadata": {
        "id": "CydoAlJtnoWZ"
      },
      "outputs": [],
      "source": []
    },
    {
      "cell_type": "code",
      "execution_count": null,
      "metadata": {
        "id": "SmeSk2s8noRV"
      },
      "outputs": [],
      "source": [
        "# Using HYPEROPT for tuning XGBoost\n",
        "# Source: https://www.kaggle.com/code/prashant111/a-guide-on-xgboost-hyperparameters-tuning/notebook#4.-Bayesian-Optimization-with-HYPEROPT-\n",
        "from hyperopt import STATUS_OK, Trials, fmin, hp, tpe\n",
        "\n",
        "space={'max_depth': hp.quniform(\"max_depth\", 3, 18, 1),\n",
        "        'gamma': hp.uniform ('gamma', 1,9),\n",
        "        'reg_alpha' : hp.quniform('reg_alpha', 40,180,1),\n",
        "        'reg_lambda' : hp.uniform('reg_lambda', 0,1),\n",
        "        'colsample_bytree' : hp.uniform('colsample_bytree', 0.5,1),\n",
        "        'min_child_weight' : hp.quniform('min_child_weight', 0, 10, 1),\n",
        "        'n_estimators': 180,\n",
        "        'seed': 0\n",
        "    }"
      ]
    },
    {
      "cell_type": "code",
      "execution_count": null,
      "metadata": {
        "id": "eKOhIk-9noNI"
      },
      "outputs": [],
      "source": [
        "def objective(space):\n",
        "    clf=XGBClassifier(\n",
        "                    n_estimators =space['n_estimators'], max_depth = int(space['max_depth']), gamma = space['gamma'],\n",
        "                    reg_alpha = int(space['reg_alpha']),min_child_weight=int(space['min_child_weight']),\n",
        "                    colsample_bytree=int(space['colsample_bytree']))\n",
        "    \n",
        "    evaluation = [( X_train, y_train), ( X_test, y_test)]\n",
        "    \n",
        "    clf.fit(X_train, y_train,\n",
        "            eval_set=evaluation, eval_metric=\"auc\",\n",
        "            early_stopping_rounds=10,verbose=False)\n",
        "    \n",
        "\n",
        "    pred = clf.predict(X_test)\n",
        "    accuracy = accuracy_score(y_test, pred>0.5) #  <---- Replace with (ROC-AUC + PR-AUC)/2\n",
        "    print (\"SCORE:\", accuracy)\n",
        "    return {'loss': -accuracy, 'status': STATUS_OK }"
      ]
    },
    {
      "cell_type": "code",
      "execution_count": null,
      "metadata": {
        "id": "AYGONgqdo5et"
      },
      "outputs": [],
      "source": [
        "trials = Trials()\n",
        "\n",
        "best_hyperparams = fmin(fn = objective,\n",
        "                        space = space,\n",
        "                        algo = tpe.suggest,\n",
        "                        max_evals = 100,\n",
        "                        trials = trials)"
      ]
    },
    {
      "cell_type": "code",
      "execution_count": null,
      "metadata": {
        "id": "Cim4uq_2noEZ"
      },
      "outputs": [],
      "source": []
    },
    {
      "cell_type": "code",
      "execution_count": null,
      "metadata": {
        "id": "o2duEtwgYH3G"
      },
      "outputs": [],
      "source": [
        "from xgboost import XGBClassifier\n",
        "xgb = XGBClassifier(tree_method='gpu_hist') # to enable GPU training, pass in the tree_method='gpu_hist' parameter\n",
        "xgb.fit(X_train[without_categorical_columns], y_train)"
      ]
    },
    {
      "cell_type": "code",
      "execution_count": null,
      "metadata": {
        "id": "bGjhaTeGd0ex"
      },
      "outputs": [],
      "source": [
        "y_test_pred = xgb.predict(X_test[without_categorical_columns])"
      ]
    },
    {
      "cell_type": "code",
      "execution_count": null,
      "metadata": {
        "id": "FAaTcO1Ud0W8"
      },
      "outputs": [],
      "source": [
        "from sklearn import metrics\n",
        "\n",
        "fpr, tpr, thresholds = metrics.roc_curve(y_test, y_test_pred, pos_label=1)\n",
        "auc_roc = metrics.auc(fpr, tpr)\n",
        "\n",
        "precision, recall, _ = metrics.precision_recall_curve(y_test, y_test_pred)\n",
        "auc_pr = metrics.auc(recall, precision)\n",
        "\n",
        "print(f\"ROC-AUC: {auc_roc} \\n PR-AUC {auc_pr}\")"
      ]
    },
    {
      "cell_type": "markdown",
      "metadata": {
        "id": "MJph0guaVObd"
      },
      "source": [
        "## 6. Deep Learning Approach"
      ]
    },
    {
      "cell_type": "code",
      "execution_count": null,
      "metadata": {
        "id": "ycVNTjyHVMpP"
      },
      "outputs": [],
      "source": [
        "import tensorflow as tf\n",
        "from tensorflow import keras"
      ]
    },
    {
      "cell_type": "code",
      "execution_count": null,
      "metadata": {
        "id": "VGoVhIIHd0N5"
      },
      "outputs": [],
      "source": [
        "# Using Keras Functional API\n",
        "from keras.models import Sequential, Model\n",
        "from keras.layers import Dense\n",
        "\n",
        "def sample_model_1():\n",
        "    '''Sample MLP/feed-forward neural net as a baseline'''\n",
        "    inputs = keras.Input(shape=(48, 1))\n",
        "\n",
        "    x = Dense(144, activation='sigmoid')(inputs)\n",
        "    x = Dense(72, activation='sigmoid')(x)\n",
        "    x = Dense(72, activation='sigmoid')(x)\n",
        "    x = Dense(36, activation='tanh')(x)\n",
        "    x = Dense(9, activation='tanh')(x)\n",
        "    \n",
        "    outputs = Dense(1, activation='tanh')(x)\n",
        "\n",
        "    return Model(inputs=inputs, outputs=outputs)"
      ]
    },
    {
      "cell_type": "code",
      "execution_count": null,
      "metadata": {
        "id": "uY8-JDAWd0Gh"
      },
      "outputs": [],
      "source": [
        "from keras.optimizers import Adam\n",
        "from keras.losses import BinaryCrossentropy\n",
        "\n",
        "sample_model_1 = sample_model_1()\n",
        "\n",
        "sample_model_1.compile(\n",
        "    optimizer=tf.keras.optimizers.Adam(learning_rate=0.001),\n",
        "    loss=tf.keras.losses.BinaryCrossentropy(),\n",
        "    metrics=[tf.keras.metrics.AUC(curve='ROC'), tf.keras.metrics.AUC(curve='PR')]\n",
        ")"
      ]
    },
    {
      "cell_type": "code",
      "execution_count": null,
      "metadata": {
        "id": "7deU3-0Kdz_M"
      },
      "outputs": [],
      "source": []
    },
    {
      "cell_type": "code",
      "execution_count": null,
      "metadata": {
        "id": "jRMy1O6KhFSf"
      },
      "outputs": [],
      "source": []
    },
    {
      "cell_type": "code",
      "execution_count": null,
      "metadata": {
        "id": "BEVc0xWrhE1P"
      },
      "outputs": [],
      "source": []
    },
    {
      "cell_type": "code",
      "execution_count": null,
      "metadata": {
        "id": "sQdC6ABzdzi7"
      },
      "outputs": [],
      "source": []
    }
  ],
  "metadata": {
    "accelerator": "GPU",
    "colab": {
      "provenance": [],
      "include_colab_link": true
    },
    "gpuClass": "standard",
    "kernelspec": {
      "display_name": "Python 3",
      "name": "python3"
    },
    "language_info": {
      "name": "python"
    }
  },
  "nbformat": 4,
  "nbformat_minor": 0
}